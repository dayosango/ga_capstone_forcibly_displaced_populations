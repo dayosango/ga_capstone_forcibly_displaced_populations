{
 "cells": [
  {
   "cell_type": "code",
   "execution_count": 1,
   "id": "99e757c1",
   "metadata": {},
   "outputs": [],
   "source": [
    "import pandas as pd\n",
    "import numpy as np\n",
    "from pprint import pprint\n",
    "import requests\n",
    "import re\n",
    "import seaborn as sns\n",
    "import matplotlib.pyplot as plt\n",
    "from matplotlib import rc"
   ]
  },
  {
   "cell_type": "code",
   "execution_count": 2,
   "id": "8b038d6e",
   "metadata": {},
   "outputs": [
    {
     "name": "stderr",
     "output_type": "stream",
     "text": [
      "/Users/dayosangowawa/opt/anaconda3/lib/python3.8/site-packages/scikitplot/plotters.py:33: DeprecationWarning: This module was deprecated in version 0.3.0 and its functions are spread throughout different modules. Please check the documentation and update your function calls as soon as possible. This module will be removed in 0.4.0\n",
      "  warnings.warn(\"This module was deprecated in version 0.3.0 and its functions \"\n"
     ]
    }
   ],
   "source": [
    "from sklearn.linear_model import LinearRegression, Lasso, Ridge\n",
    "from sklearn.preprocessing import StandardScaler, PolynomialFeatures\n",
    "from sklearn.model_selection import train_test_split, cross_val_score, cross_val_predict, KFold\n",
    "from sklearn.linear_model import LogisticRegression, LogisticRegressionCV\n",
    "from sklearn.model_selection import GridSearchCV\n",
    "from pactools.grid_search import GridSearchCVProgressBar\n",
    "from sklearn.metrics import  plot_confusion_matrix, plot_roc_curve, plot_precision_recall_curve, roc_auc_score, average_precision_score\n",
    "from sklearn.preprocessing import label_binarize\n",
    "import imblearn\n",
    "from collections import Counter\n",
    "from sklearn.datasets import make_classification\n",
    "from imblearn.over_sampling import SMOTE \n",
    "from sklearn.neighbors import KNeighborsClassifier\n",
    "from sklearn.tree import DecisionTreeClassifier\n",
    "from sklearn.svm import SVC\n",
    "from sklearn.ensemble import RandomForestClassifier, ExtraTreesClassifier\n",
    "from sklearn.metrics import recall_score, precision_score, f1_score, classification_report\n",
    "from sklearn import preprocessing\n",
    "import scikitplot as skplt\n",
    "import warnings"
   ]
  },
  {
   "cell_type": "code",
   "execution_count": 3,
   "id": "31a48742",
   "metadata": {},
   "outputs": [
    {
     "name": "stderr",
     "output_type": "stream",
     "text": [
      "/Users/dayosangowawa/opt/anaconda3/lib/python3.8/site-packages/ipykernel/ipkernel.py:287: DeprecationWarning: `should_run_async` will not call `transform_cell` automatically in the future. Please pass the result to `transformed_cell` argument and any exception that happen during thetransform in `preprocessing_exc_tuple` in IPython 7.17 and above.\n",
      "  and should_run_async(code)\n"
     ]
    }
   ],
   "source": [
    "warnings.filterwarnings('ignore')"
   ]
  },
  {
   "cell_type": "code",
   "execution_count": 4,
   "id": "832977fc",
   "metadata": {},
   "outputs": [],
   "source": [
    "#Baseline prediction:  0.7486373556474343"
   ]
  },
  {
   "cell_type": "code",
   "execution_count": 5,
   "id": "0e403210",
   "metadata": {},
   "outputs": [],
   "source": [
    "scores = pd.DataFrame(columns=['Model', 'Training Accuracy Score', 'Test Accuracy Score', 'Mean CV Score', 'AUC'],\n",
    "                     )"
   ]
  },
  {
   "cell_type": "code",
   "execution_count": 6,
   "id": "289e82bc",
   "metadata": {},
   "outputs": [],
   "source": [
    "models = {'Decision Tree':[ 0.8803087215200285, 0.883094807259966, 0.8795821172974783, 0.8146968974112164],\n",
    "          'Random Forest': [0.9724179530063335, 0.9282776772495476, 0.9230115293846929, 0.9963364242456345], \n",
    "          'KNN': [0.9327721876456557, 0.9105115973021879, 0.900652533284511, 0.980171275581603], \n",
    "          'Naive Bayes': [0.8357689249581882, 0.8378022701102155, 0.8356729677607854, 0.8186033029545056], \n",
    "          'Neural Networks': [0.9186932799605187, 0.9183527992542633, 0.9193238739638355, 0.9659121888375225],\n",
    "        'Logistic Regression - Ridge': [0.9148685328873413, 0.9165981246915611, 0.913895216480104, 0.9633526119128724] , \n",
    "          'Logistic Regression - Lasso': [0.9148411153455981, 0.9166529582716455, 0.9138677995021084, 0.9633274283807791]}"
   ]
  },
  {
   "cell_type": "code",
   "execution_count": 7,
   "id": "b9c3a71f",
   "metadata": {},
   "outputs": [
    {
     "data": {
      "text/html": [
       "<div>\n",
       "<style scoped>\n",
       "    .dataframe tbody tr th:only-of-type {\n",
       "        vertical-align: middle;\n",
       "    }\n",
       "\n",
       "    .dataframe tbody tr th {\n",
       "        vertical-align: top;\n",
       "    }\n",
       "\n",
       "    .dataframe thead th {\n",
       "        text-align: right;\n",
       "    }\n",
       "</style>\n",
       "<table border=\"1\" class=\"dataframe\">\n",
       "  <thead>\n",
       "    <tr style=\"text-align: right;\">\n",
       "      <th></th>\n",
       "      <th>0</th>\n",
       "      <th>1</th>\n",
       "      <th>2</th>\n",
       "      <th>3</th>\n",
       "    </tr>\n",
       "  </thead>\n",
       "  <tbody>\n",
       "    <tr>\n",
       "      <th>Decision Tree</th>\n",
       "      <td>0.880309</td>\n",
       "      <td>0.883095</td>\n",
       "      <td>0.879582</td>\n",
       "      <td>0.814697</td>\n",
       "    </tr>\n",
       "    <tr>\n",
       "      <th>Random Forest</th>\n",
       "      <td>0.972418</td>\n",
       "      <td>0.928278</td>\n",
       "      <td>0.923012</td>\n",
       "      <td>0.996336</td>\n",
       "    </tr>\n",
       "    <tr>\n",
       "      <th>KNN</th>\n",
       "      <td>0.932772</td>\n",
       "      <td>0.910512</td>\n",
       "      <td>0.900653</td>\n",
       "      <td>0.980171</td>\n",
       "    </tr>\n",
       "    <tr>\n",
       "      <th>Naive Bayes</th>\n",
       "      <td>0.835769</td>\n",
       "      <td>0.837802</td>\n",
       "      <td>0.835673</td>\n",
       "      <td>0.818603</td>\n",
       "    </tr>\n",
       "    <tr>\n",
       "      <th>Neural Networks</th>\n",
       "      <td>0.918693</td>\n",
       "      <td>0.918353</td>\n",
       "      <td>0.919324</td>\n",
       "      <td>0.965912</td>\n",
       "    </tr>\n",
       "    <tr>\n",
       "      <th>Logistic Regression - Ridge</th>\n",
       "      <td>0.914869</td>\n",
       "      <td>0.916598</td>\n",
       "      <td>0.913895</td>\n",
       "      <td>0.963353</td>\n",
       "    </tr>\n",
       "    <tr>\n",
       "      <th>Logistic Regression - Lasso</th>\n",
       "      <td>0.914841</td>\n",
       "      <td>0.916653</td>\n",
       "      <td>0.913868</td>\n",
       "      <td>0.963327</td>\n",
       "    </tr>\n",
       "  </tbody>\n",
       "</table>\n",
       "</div>"
      ],
      "text/plain": [
       "                                    0         1         2         3\n",
       "Decision Tree                0.880309  0.883095  0.879582  0.814697\n",
       "Random Forest                0.972418  0.928278  0.923012  0.996336\n",
       "KNN                          0.932772  0.910512  0.900653  0.980171\n",
       "Naive Bayes                  0.835769  0.837802  0.835673  0.818603\n",
       "Neural Networks              0.918693  0.918353  0.919324  0.965912\n",
       "Logistic Regression - Ridge  0.914869  0.916598  0.913895  0.963353\n",
       "Logistic Regression - Lasso  0.914841  0.916653  0.913868  0.963327"
      ]
     },
     "execution_count": 7,
     "metadata": {},
     "output_type": "execute_result"
    }
   ],
   "source": [
    "model_df = pd.DataFrame(models).T\n",
    "model_df"
   ]
  },
  {
   "cell_type": "code",
   "execution_count": 8,
   "id": "96fe638c",
   "metadata": {},
   "outputs": [],
   "source": [
    "model_df = model_df.rename(columns = {0: 'Accuracy score - train', 1: 'Accuracy score - test',\n",
    "                                     2: 'Mean CV Score', 3: 'AUC'})"
   ]
  },
  {
   "cell_type": "code",
   "execution_count": 9,
   "id": "9bf00910",
   "metadata": {},
   "outputs": [
    {
     "data": {
      "text/html": [
       "<div>\n",
       "<style scoped>\n",
       "    .dataframe tbody tr th:only-of-type {\n",
       "        vertical-align: middle;\n",
       "    }\n",
       "\n",
       "    .dataframe tbody tr th {\n",
       "        vertical-align: top;\n",
       "    }\n",
       "\n",
       "    .dataframe thead th {\n",
       "        text-align: right;\n",
       "    }\n",
       "</style>\n",
       "<table border=\"1\" class=\"dataframe\">\n",
       "  <thead>\n",
       "    <tr style=\"text-align: right;\">\n",
       "      <th></th>\n",
       "      <th>Accuracy score - train</th>\n",
       "      <th>Accuracy score - test</th>\n",
       "      <th>Mean CV Score</th>\n",
       "      <th>AUC</th>\n",
       "    </tr>\n",
       "  </thead>\n",
       "  <tbody>\n",
       "    <tr>\n",
       "      <th>Decision Tree</th>\n",
       "      <td>0.880309</td>\n",
       "      <td>0.883095</td>\n",
       "      <td>0.879582</td>\n",
       "      <td>0.814697</td>\n",
       "    </tr>\n",
       "    <tr>\n",
       "      <th>Random Forest</th>\n",
       "      <td>0.972418</td>\n",
       "      <td>0.928278</td>\n",
       "      <td>0.923012</td>\n",
       "      <td>0.996336</td>\n",
       "    </tr>\n",
       "    <tr>\n",
       "      <th>KNN</th>\n",
       "      <td>0.932772</td>\n",
       "      <td>0.910512</td>\n",
       "      <td>0.900653</td>\n",
       "      <td>0.980171</td>\n",
       "    </tr>\n",
       "    <tr>\n",
       "      <th>Naive Bayes</th>\n",
       "      <td>0.835769</td>\n",
       "      <td>0.837802</td>\n",
       "      <td>0.835673</td>\n",
       "      <td>0.818603</td>\n",
       "    </tr>\n",
       "    <tr>\n",
       "      <th>Neural Networks</th>\n",
       "      <td>0.918693</td>\n",
       "      <td>0.918353</td>\n",
       "      <td>0.919324</td>\n",
       "      <td>0.965912</td>\n",
       "    </tr>\n",
       "    <tr>\n",
       "      <th>Logistic Regression - Ridge</th>\n",
       "      <td>0.914869</td>\n",
       "      <td>0.916598</td>\n",
       "      <td>0.913895</td>\n",
       "      <td>0.963353</td>\n",
       "    </tr>\n",
       "    <tr>\n",
       "      <th>Logistic Regression - Lasso</th>\n",
       "      <td>0.914841</td>\n",
       "      <td>0.916653</td>\n",
       "      <td>0.913868</td>\n",
       "      <td>0.963327</td>\n",
       "    </tr>\n",
       "  </tbody>\n",
       "</table>\n",
       "</div>"
      ],
      "text/plain": [
       "                             Accuracy score - train  Accuracy score - test  \\\n",
       "Decision Tree                              0.880309               0.883095   \n",
       "Random Forest                              0.972418               0.928278   \n",
       "KNN                                        0.932772               0.910512   \n",
       "Naive Bayes                                0.835769               0.837802   \n",
       "Neural Networks                            0.918693               0.918353   \n",
       "Logistic Regression - Ridge                0.914869               0.916598   \n",
       "Logistic Regression - Lasso                0.914841               0.916653   \n",
       "\n",
       "                             Mean CV Score       AUC  \n",
       "Decision Tree                     0.879582  0.814697  \n",
       "Random Forest                     0.923012  0.996336  \n",
       "KNN                               0.900653  0.980171  \n",
       "Naive Bayes                       0.835673  0.818603  \n",
       "Neural Networks                   0.919324  0.965912  \n",
       "Logistic Regression - Ridge       0.913895  0.963353  \n",
       "Logistic Regression - Lasso       0.913868  0.963327  "
      ]
     },
     "execution_count": 9,
     "metadata": {},
     "output_type": "execute_result"
    }
   ],
   "source": [
    "model_df"
   ]
  },
  {
   "cell_type": "code",
   "execution_count": 10,
   "id": "c91e29d8",
   "metadata": {},
   "outputs": [
    {
     "data": {
      "image/png": "[encoded data removed]",
      "text/plain": [
       "<Figure size 432x288 with 1 Axes>"
      ]
     },
     "metadata": {
      "needs_background": "light"
     },
     "output_type": "display_data"
    }
   ],
   "source": [
    "model_df.plot(kind='barh', colormap='seismic')\n",
    "plt.legend(loc=\"upper right\", bbox_to_anchor=(1.5, 1))\n",
    "plt.savefig('model_score_comparison.png', dpi=300, bbox_inches = \"tight\")\n",
    "plt.show();"
   ]
  },
  {
   "cell_type": "code",
   "execution_count": null,
   "id": "8e5f170c",
   "metadata": {},
   "outputs": [],
   "source": []
  }
 ],
 "metadata": {
  "kernelspec": {
   "display_name": "Python 3",
   "language": "python",
   "name": "python3"
  },
  "language_info": {
   "codemirror_mode": {
    "name": "ipython",
    "version": 3
   },
   "file_extension": ".py",
   "mimetype": "text/x-python",
   "name": "python",
   "nbconvert_exporter": "python",
   "pygments_lexer": "ipython3",
   "version": "3.8.8"
  }
 },
 "nbformat": 4,
 "nbformat_minor": 5
}
