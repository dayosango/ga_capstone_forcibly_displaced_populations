{
 "cells": [
  {
   "cell_type": "markdown",
   "id": "acea025a",
   "metadata": {},
   "source": [
    "\n",
    "# UNHCR Forcibly Displaced Populations Casptone Project\n",
    "\n",
    "## Neural Network Classifier\n",
    "\n",
    "---\n"
   ]
  },
  {
   "cell_type": "code",
   "execution_count": null,
   "id": "f42420e0",
   "metadata": {},
   "outputs": [],
   "source": [
    "import pandas as pd\n",
    "import numpy as np\n",
    "import seaborn as sns\n",
    "import matplotlib.pyplot as plt"
   ]
  },
  {
   "cell_type": "code",
   "execution_count": null,
   "id": "403a7c60",
   "metadata": {},
   "outputs": [],
   "source": [
    "from sklearn.model_selection import train_test_split\n",
    "from sklearn import metrics\n",
    "from sklearn.preprocessing import LabelBinarizer, StandardScaler\n",
    "from sklearn.preprocessing import label_binarize\n",
    "from sklearn import preprocessing\n",
    "from sklearn.model_selection import train_test_split, cross_val_score\n",
    "from sklearn.impute import SimpleImputer as Imputer\n",
    "from sklearn.neural_network import MLPClassifier\n",
    "from sklearn.model_selection import GridSearchCV\n",
    "from sklearn.metrics import recall_score, precision_score, f1_score, classification_report\n",
    "from sklearn.metrics import  plot_confusion_matrix, plot_roc_curve, plot_precision_recall_curve, roc_auc_score, average_precision_score\n",
    "import scikitplot as skplt\n",
    "import warnings"
   ]
  },
  {
   "cell_type": "code",
   "execution_count": null,
   "id": "166a1566",
   "metadata": {},
   "outputs": [],
   "source": [
    "df = pd.read_csv('/Users/dayosangowawa/Desktop/GA/DSI20-lessons/projects/project-capstone/My Capstone/Forcibly displaced persons - Capstone Dayo Sangowawa/cleaned_unhcrdf_final.csv')\n",
    "df.head()"
   ]
  },
  {
   "cell_type": "code",
   "execution_count": null,
   "id": "b21d722f",
   "metadata": {},
   "outputs": [],
   "source": [
    "df.drop(columns = ['Unnamed: 0'], inplace=True)"
   ]
  },
  {
   "cell_type": "code",
   "execution_count": null,
   "id": "213097d5",
   "metadata": {},
   "outputs": [],
   "source": [
    "y = df.pop('accommodation_type')\n",
    "X = pd.get_dummies(df, drop_first=True)"
   ]
  },
  {
   "cell_type": "code",
   "execution_count": null,
   "id": "4bfe2552",
   "metadata": {},
   "outputs": [],
   "source": [
    "print('Baseline prediction: ', y.value_counts(normalize=True).max())"
   ]
  },
  {
   "cell_type": "code",
   "execution_count": null,
   "id": "53782c31",
   "metadata": {},
   "outputs": [],
   "source": [
    "lb = preprocessing.LabelBinarizer()\n",
    "y = lb.fit_transform(y)"
   ]
  },
  {
   "cell_type": "code",
   "execution_count": null,
   "id": "cb8a09bd",
   "metadata": {},
   "outputs": [],
   "source": [
    "y\n",
    "#'0' if it is 'I 'and '1' if it is 'other'. "
   ]
  },
  {
   "cell_type": "code",
   "execution_count": null,
   "id": "cca3c1c7",
   "metadata": {},
   "outputs": [],
   "source": [
    "y = y.ravel()"
   ]
  },
  {
   "cell_type": "code",
   "execution_count": null,
   "id": "9546e224",
   "metadata": {},
   "outputs": [],
   "source": [
    "X_train, X_test, y_train, y_test = train_test_split(\n",
    "    X, y, stratify=y, test_size=0.2, random_state=1)"
   ]
  },
  {
   "cell_type": "code",
   "execution_count": null,
   "id": "f1a5263d",
   "metadata": {},
   "outputs": [],
   "source": [
    "scaler = StandardScaler()\n",
    "\n",
    "X_train = scaler.fit_transform(X_train)\n",
    "X_test = scaler.transform(X_test)"
   ]
  },
  {
   "cell_type": "code",
   "execution_count": null,
   "id": "732f74d1",
   "metadata": {},
   "outputs": [],
   "source": [
    "nnc = MLPClassifier(solver='lbfgs',\n",
    "                    alpha=10**(-10),\n",
    "                    hidden_layer_sizes=1,\n",
    "                    activation='identity',\n",
    "                    random_state=1,\n",
    "                    batch_size='auto')\n",
    "\n",
    "nnc.fit(X_train, y_train)"
   ]
  },
  {
   "cell_type": "code",
   "execution_count": null,
   "id": "fdf79de9",
   "metadata": {},
   "outputs": [],
   "source": [
    "print('Accuracy score - train: ', nnc.score(X_train, y_train))\n",
    "print('Accuracy score - test: ', nnc.score(X_test, y_test))\n",
    "print('Mean CV score - train: ', cross_val_score(nnc, X_train, y_train, cv=5).mean())"
   ]
  },
  {
   "cell_type": "markdown",
   "id": "7a91d3c7",
   "metadata": {},
   "source": [
    "### GridSearch"
   ]
  },
  {
   "cell_type": "code",
   "execution_count": null,
   "id": "336a3652",
   "metadata": {},
   "outputs": [],
   "source": [
    "nnc_blank = MLPClassifier()"
   ]
  },
  {
   "cell_type": "code",
   "execution_count": null,
   "id": "00c4bdcc",
   "metadata": {},
   "outputs": [],
   "source": [
    "params = {'solver':['adam', 'sgd'],\n",
    "            'hidden_layer_sizes':(range(1, 20)),\n",
    "            'activation':['identity', 'relu', 'logistic', 'tanh'],\n",
    "             'max_iter': [300]}"
   ]
  },
  {
   "cell_type": "code",
   "execution_count": null,
   "id": "00768326",
   "metadata": {},
   "outputs": [],
   "source": [
    "nnc_gs = GridSearchCV(estimator=nnc_blank, param_grid=params, cv=5)"
   ]
  },
  {
   "cell_type": "code",
   "execution_count": null,
   "id": "1684c915",
   "metadata": {
    "scrolled": true
   },
   "outputs": [],
   "source": [
    "nnc_gs.fit(X_train, y_train)"
   ]
  },
  {
   "cell_type": "code",
   "execution_count": null,
   "id": "5f8dd053",
   "metadata": {},
   "outputs": [],
   "source": [
    "nnc_gs.best_params_"
   ]
  },
  {
   "cell_type": "code",
   "execution_count": null,
   "id": "ff3c3bda",
   "metadata": {},
   "outputs": [],
   "source": [
    "nnc_gs.best_score_"
   ]
  },
  {
   "cell_type": "code",
   "execution_count": null,
   "id": "925b706c",
   "metadata": {},
   "outputs": [],
   "source": [
    "nnc_best = MLPClassifier(activation = 'logistic', hidden_layer_sizes = 2, solver ='lbfgs')"
   ]
  },
  {
   "cell_type": "code",
   "execution_count": null,
   "id": "fd77a4f6",
   "metadata": {},
   "outputs": [],
   "source": [
    "nnc_best.fit(X_train, y_train)"
   ]
  },
  {
   "cell_type": "code",
   "execution_count": null,
   "id": "b5e24ad7",
   "metadata": {
    "scrolled": true
   },
   "outputs": [],
   "source": [
    "print('Accuracy score - train: ', nnc_best.score(X_train, y_train))\n",
    "print('Accuracy score - test: ', nnc_best.score(X_test, y_test))\n",
    "print('Mean CV score - train: ', cross_val_score(nnc_best, X_train, y_train, cv=5).mean())"
   ]
  },
  {
   "cell_type": "code",
   "execution_count": null,
   "id": "3aedbea0",
   "metadata": {},
   "outputs": [],
   "source": [
    "plot_confusion_matrix(nnc_best, X_test, y_test, cmap='Blues', labels=[1, 0], values_format='.0f')\n",
    "plt.show()"
   ]
  },
  {
   "cell_type": "code",
   "execution_count": null,
   "id": "19460402",
   "metadata": {},
   "outputs": [],
   "source": [
    "y_test_pred = nnc_best.predict(X_test)"
   ]
  },
  {
   "cell_type": "code",
   "execution_count": null,
   "id": "d045a2b9",
   "metadata": {},
   "outputs": [],
   "source": [
    "print(classification_report(y_test, y_test_pred))"
   ]
  },
  {
   "cell_type": "code",
   "execution_count": null,
   "id": "df9e83e1",
   "metadata": {},
   "outputs": [],
   "source": [
    "probabilities_train = nnc_best.predict_proba(X_train)"
   ]
  },
  {
   "cell_type": "code",
   "execution_count": null,
   "id": "03b5786e",
   "metadata": {},
   "outputs": [],
   "source": [
    "from matplotlib.colors import ListedColormap\n",
    "cmap = ListedColormap(sns.color_palette(\"husl\", len(nnc_best.classes_)))"
   ]
  },
  {
   "cell_type": "code",
   "execution_count": null,
   "id": "b9001dbf",
   "metadata": {},
   "outputs": [],
   "source": [
    "skplt.metrics.plot_precision_recall(y_train, probabilities_train, cmap=cmap)\n",
    "plt.show()"
   ]
  },
  {
   "cell_type": "code",
   "execution_count": null,
   "id": "4f44f2fc",
   "metadata": {},
   "outputs": [],
   "source": [
    "print('Average precision score: ', average_precision_score(y_train, probabilities_train[:, 1]))"
   ]
  },
  {
   "cell_type": "code",
   "execution_count": null,
   "id": "a14ba89b",
   "metadata": {},
   "outputs": [],
   "source": [
    "skplt.metrics.plot_roc(y_train, probabilities_train, cmap=cmap)\n",
    "plt.show()"
   ]
  },
  {
   "cell_type": "code",
   "execution_count": null,
   "id": "95b29331",
   "metadata": {},
   "outputs": [],
   "source": [
    "print('Area under the curve : ', roc_auc_score(y_train, probabilities_train[:, 1]))"
   ]
  },
  {
   "cell_type": "code",
   "execution_count": null,
   "id": "5be33a05",
   "metadata": {},
   "outputs": [],
   "source": []
  }
 ],
 "metadata": {
  "kernelspec": {
   "display_name": "Python 3",
   "language": "python",
   "name": "python3"
  },
  "language_info": {
   "codemirror_mode": {
    "name": "ipython",
    "version": 3
   },
   "file_extension": ".py",
   "mimetype": "text/x-python",
   "name": "python",
   "nbconvert_exporter": "python",
   "pygments_lexer": "ipython3",
   "version": "3.8.8"
  }
 },
 "nbformat": 4,
 "nbformat_minor": 5
}
