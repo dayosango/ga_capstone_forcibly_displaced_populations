{
 "cells": [
  {
   "cell_type": "markdown",
   "id": "0b58c04c",
   "metadata": {},
   "source": [
    "# UNHCR Forcibly Displaced Populations Casptone Project\n",
    "\n",
    "## Logistic Regression\n",
    "\n",
    "---\n"
   ]
  },
  {
   "cell_type": "code",
   "execution_count": 2,
   "id": "f0f7d098",
   "metadata": {},
   "outputs": [],
   "source": [
    "import pandas as pd\n",
    "import numpy as np\n",
    "import seaborn as sns\n",
    "import matplotlib.pyplot as plt"
   ]
  },
  {
   "cell_type": "code",
   "execution_count": 3,
   "id": "3cad2925",
   "metadata": {},
   "outputs": [],
   "source": [
    "from sklearn.linear_model import LinearRegression, Lasso, Ridge\n",
    "from sklearn.preprocessing import StandardScaler, PolynomialFeatures\n",
    "from sklearn.model_selection import train_test_split, cross_val_score, cross_val_predict, KFold\n",
    "from sklearn.linear_model import LogisticRegression, LogisticRegressionCV\n",
    "from sklearn.model_selection import GridSearchCV\n",
    "from pactools.grid_search import GridSearchCVProgressBar\n",
    "from sklearn.metrics import  plot_confusion_matrix, plot_roc_curve, plot_precision_recall_curve, roc_auc_score, average_precision_score\n",
    "from sklearn.datasets import make_classification\n",
    "from sklearn.metrics import recall_score, precision_score, f1_score, classification_report\n",
    "from sklearn import preprocessing\n",
    "import warnings"
   ]
  },
  {
   "cell_type": "code",
   "execution_count": 4,
   "id": "ad93633d",
   "metadata": {},
   "outputs": [
    {
     "name": "stderr",
     "output_type": "stream",
     "text": [
      "/Users/dayosangowawa/opt/anaconda3/lib/python3.8/site-packages/ipykernel/ipkernel.py:287: DeprecationWarning: `should_run_async` will not call `transform_cell` automatically in the future. Please pass the result to `transformed_cell` argument and any exception that happen during thetransform in `preprocessing_exc_tuple` in IPython 7.17 and above.\n",
      "  and should_run_async(code)\n"
     ]
    }
   ],
   "source": [
    "warnings.filterwarnings('ignore')"
   ]
  },
  {
   "cell_type": "markdown",
   "id": "7f6c3c79",
   "metadata": {},
   "source": [
    "### Load the data"
   ]
  },
  {
   "cell_type": "code",
   "execution_count": 5,
   "id": "879769d8",
   "metadata": {},
   "outputs": [
    {
     "data": {
      "text/html": [
       "<div>\n",
       "<style scoped>\n",
       "    .dataframe tbody tr th:only-of-type {\n",
       "        vertical-align: middle;\n",
       "    }\n",
       "\n",
       "    .dataframe tbody tr th {\n",
       "        vertical-align: top;\n",
       "    }\n",
       "\n",
       "    .dataframe thead th {\n",
       "        text-align: right;\n",
       "    }\n",
       "</style>\n",
       "<table border=\"1\" class=\"dataframe\">\n",
       "  <thead>\n",
       "    <tr style=\"text-align: right;\">\n",
       "      <th></th>\n",
       "      <th>Unnamed: 0</th>\n",
       "      <th>country_of_origin</th>\n",
       "      <th>country_of_asylum</th>\n",
       "      <th>population_type</th>\n",
       "      <th>urban_or_rural_location</th>\n",
       "      <th>accommodation_type</th>\n",
       "      <th>female_aged_0-4 years</th>\n",
       "      <th>female_aged_5-11 years</th>\n",
       "      <th>female_aged_12-17 years</th>\n",
       "      <th>female_aged_18-59 years</th>\n",
       "      <th>female_aged_over_60_years</th>\n",
       "      <th>male_aged_0-4_years</th>\n",
       "      <th>male_aged_5-11_years</th>\n",
       "      <th>male_aged_12-17 years</th>\n",
       "      <th>male_aged_18-59_years</th>\n",
       "      <th>male_aged_over_60_years</th>\n",
       "    </tr>\n",
       "  </thead>\n",
       "  <tbody>\n",
       "    <tr>\n",
       "      <th>0</th>\n",
       "      <td>0</td>\n",
       "      <td>Colombia</td>\n",
       "      <td>Aruba</td>\n",
       "      <td>ASY</td>\n",
       "      <td>Urban</td>\n",
       "      <td>I</td>\n",
       "      <td>0</td>\n",
       "      <td>0</td>\n",
       "      <td>0</td>\n",
       "      <td>0</td>\n",
       "      <td>0</td>\n",
       "      <td>0</td>\n",
       "      <td>0</td>\n",
       "      <td>0</td>\n",
       "      <td>5</td>\n",
       "      <td>0</td>\n",
       "    </tr>\n",
       "    <tr>\n",
       "      <th>1</th>\n",
       "      <td>1</td>\n",
       "      <td>Cuba</td>\n",
       "      <td>Aruba</td>\n",
       "      <td>ASY</td>\n",
       "      <td>Urban</td>\n",
       "      <td>I</td>\n",
       "      <td>0</td>\n",
       "      <td>0</td>\n",
       "      <td>0</td>\n",
       "      <td>0</td>\n",
       "      <td>0</td>\n",
       "      <td>0</td>\n",
       "      <td>0</td>\n",
       "      <td>0</td>\n",
       "      <td>0</td>\n",
       "      <td>0</td>\n",
       "    </tr>\n",
       "    <tr>\n",
       "      <th>2</th>\n",
       "      <td>2</td>\n",
       "      <td>Afghanistan</td>\n",
       "      <td>Afghanistan</td>\n",
       "      <td>IDP</td>\n",
       "      <td>Rural</td>\n",
       "      <td>I</td>\n",
       "      <td>0</td>\n",
       "      <td>14</td>\n",
       "      <td>16</td>\n",
       "      <td>37</td>\n",
       "      <td>0</td>\n",
       "      <td>0</td>\n",
       "      <td>15</td>\n",
       "      <td>17</td>\n",
       "      <td>38</td>\n",
       "      <td>5</td>\n",
       "    </tr>\n",
       "    <tr>\n",
       "      <th>3</th>\n",
       "      <td>3</td>\n",
       "      <td>Afghanistan</td>\n",
       "      <td>Afghanistan</td>\n",
       "      <td>IDP</td>\n",
       "      <td>Urban</td>\n",
       "      <td>Q</td>\n",
       "      <td>74</td>\n",
       "      <td>810</td>\n",
       "      <td>853</td>\n",
       "      <td>2004</td>\n",
       "      <td>140</td>\n",
       "      <td>75</td>\n",
       "      <td>840</td>\n",
       "      <td>921</td>\n",
       "      <td>2278</td>\n",
       "      <td>206</td>\n",
       "    </tr>\n",
       "    <tr>\n",
       "      <th>4</th>\n",
       "      <td>4</td>\n",
       "      <td>Afghanistan</td>\n",
       "      <td>Afghanistan</td>\n",
       "      <td>IDP</td>\n",
       "      <td>Urban</td>\n",
       "      <td>Q</td>\n",
       "      <td>12</td>\n",
       "      <td>130</td>\n",
       "      <td>138</td>\n",
       "      <td>321</td>\n",
       "      <td>21</td>\n",
       "      <td>12</td>\n",
       "      <td>135</td>\n",
       "      <td>147</td>\n",
       "      <td>365</td>\n",
       "      <td>33</td>\n",
       "    </tr>\n",
       "  </tbody>\n",
       "</table>\n",
       "</div>"
      ],
      "text/plain": [
       "   Unnamed: 0 country_of_origin country_of_asylum population_type  \\\n",
       "0           0          Colombia             Aruba             ASY   \n",
       "1           1              Cuba             Aruba             ASY   \n",
       "2           2       Afghanistan       Afghanistan             IDP   \n",
       "3           3       Afghanistan       Afghanistan             IDP   \n",
       "4           4       Afghanistan       Afghanistan             IDP   \n",
       "\n",
       "  urban_or_rural_location accommodation_type  female_aged_0-4 years  \\\n",
       "0                   Urban                  I                      0   \n",
       "1                   Urban                  I                      0   \n",
       "2                   Rural                  I                      0   \n",
       "3                   Urban                  Q                     74   \n",
       "4                   Urban                  Q                     12   \n",
       "\n",
       "   female_aged_5-11 years  female_aged_12-17 years  female_aged_18-59 years  \\\n",
       "0                       0                        0                        0   \n",
       "1                       0                        0                        0   \n",
       "2                      14                       16                       37   \n",
       "3                     810                      853                     2004   \n",
       "4                     130                      138                      321   \n",
       "\n",
       "   female_aged_over_60_years  male_aged_0-4_years  male_aged_5-11_years  \\\n",
       "0                          0                    0                     0   \n",
       "1                          0                    0                     0   \n",
       "2                          0                    0                    15   \n",
       "3                        140                   75                   840   \n",
       "4                         21                   12                   135   \n",
       "\n",
       "   male_aged_12-17 years  male_aged_18-59_years  male_aged_over_60_years  \n",
       "0                      0                      5                        0  \n",
       "1                      0                      0                        0  \n",
       "2                     17                     38                        5  \n",
       "3                    921                   2278                      206  \n",
       "4                    147                    365                       33  "
      ]
     },
     "execution_count": 5,
     "metadata": {},
     "output_type": "execute_result"
    }
   ],
   "source": [
    "df = pd.read_csv('/Users/dayosangowawa/Desktop/GA/DSI20-lessons/projects/project-capstone/My Capstone/Forcibly displaced persons - Capstone Dayo Sangowawa/cleaned_unhcrdf_final.csv')\n",
    "df.head()"
   ]
  },
  {
   "cell_type": "code",
   "execution_count": 6,
   "id": "8ccb9a33",
   "metadata": {},
   "outputs": [],
   "source": [
    "df.drop(columns = ['Unnamed: 0'], inplace=True)"
   ]
  },
  {
   "cell_type": "code",
   "execution_count": 7,
   "id": "60e6b213",
   "metadata": {},
   "outputs": [],
   "source": [
    "y = df.pop('accommodation_type')\n",
    "X = pd.get_dummies(df, drop_first=True)"
   ]
  },
  {
   "cell_type": "code",
   "execution_count": 8,
   "id": "b9279ea7",
   "metadata": {},
   "outputs": [
    {
     "name": "stdout",
     "output_type": "stream",
     "text": [
      "Baseline prediction:  0.8497186815375424\n"
     ]
    }
   ],
   "source": [
    "print('Baseline prediction: ', y.value_counts(normalize=True).max())"
   ]
  },
  {
   "cell_type": "code",
   "execution_count": 9,
   "id": "0bcdeb55",
   "metadata": {},
   "outputs": [],
   "source": [
    "lb = preprocessing.LabelBinarizer()\n",
    "y = lb.fit_transform(y)"
   ]
  },
  {
   "cell_type": "code",
   "execution_count": 10,
   "id": "6c7b7096",
   "metadata": {},
   "outputs": [
    {
     "data": {
      "text/plain": [
       "array([[0],\n",
       "       [0],\n",
       "       [0],\n",
       "       ...,\n",
       "       [0],\n",
       "       [1],\n",
       "       [0]])"
      ]
     },
     "execution_count": 10,
     "metadata": {},
     "output_type": "execute_result"
    }
   ],
   "source": [
    "y\n",
    "#'0 'if it is 'I 'and '1' if it is 'other'. "
   ]
  },
  {
   "cell_type": "code",
   "execution_count": 11,
   "id": "5d5df43f",
   "metadata": {},
   "outputs": [],
   "source": [
    "y = y.ravel()"
   ]
  },
  {
   "cell_type": "code",
   "execution_count": 12,
   "id": "26221db5",
   "metadata": {},
   "outputs": [],
   "source": [
    "X_train, X_test, y_train, y_test = train_test_split(\n",
    "    X, y, stratify=y, test_size=0.2, random_state=1)"
   ]
  },
  {
   "cell_type": "code",
   "execution_count": 13,
   "id": "9f88484c",
   "metadata": {},
   "outputs": [],
   "source": [
    "scaler = StandardScaler()\n",
    "\n",
    "X_train = scaler.fit_transform(X_train)\n",
    "X_test = scaler.transform(X_test)"
   ]
  },
  {
   "cell_type": "markdown",
   "id": "9430591b",
   "metadata": {},
   "source": [
    "### Lasso Regularization - GridSearch"
   ]
  },
  {
   "cell_type": "code",
   "execution_count": 15,
   "id": "b297ae6e",
   "metadata": {},
   "outputs": [],
   "source": [
    "lr_lasso = LogisticRegression(penalty = 'l1', max_iter=30)"
   ]
  },
  {
   "cell_type": "code",
   "execution_count": 16,
   "id": "f99555fe",
   "metadata": {},
   "outputs": [],
   "source": [
    "params = {'C': np.linspace(1, 2, 10), \n",
    "        'solver' :['liblinear', 'saga']}"
   ]
  },
  {
   "cell_type": "code",
   "execution_count": 17,
   "id": "a4375c3f",
   "metadata": {},
   "outputs": [],
   "source": [
    "lr_lasso_gs = GridSearchCV(estimator=lr_lasso, param_grid=params, cv=5)"
   ]
  },
  {
   "cell_type": "code",
   "execution_count": null,
   "id": "9eab71cd",
   "metadata": {
    "scrolled": true
   },
   "outputs": [],
   "source": [
    "lr_lasso_gs.fit(X_train, y_train)"
   ]
  },
  {
   "cell_type": "code",
   "execution_count": null,
   "id": "35c09d33",
   "metadata": {},
   "outputs": [],
   "source": [
    "lr_lasso_gs.best_params_"
   ]
  },
  {
   "cell_type": "markdown",
   "id": "27e00348",
   "metadata": {},
   "source": [
    "### Using the best parameters from the Grid Search - Lasso"
   ]
  },
  {
   "cell_type": "code",
   "execution_count": null,
   "id": "4613df65",
   "metadata": {},
   "outputs": [],
   "source": [
    "lr_lasso_best = LogisticRegression(penalty = 'l1', C = 1.0, solver='liblinear')\n",
    "\n",
    "#lasso"
   ]
  },
  {
   "cell_type": "code",
   "execution_count": null,
   "id": "13b3d0d2",
   "metadata": {},
   "outputs": [],
   "source": [
    "lr_lasso_best.fit(X_train, y_train)"
   ]
  },
  {
   "cell_type": "code",
   "execution_count": null,
   "id": "cb555707",
   "metadata": {},
   "outputs": [],
   "source": [
    "print('Accuracy score - train: ', lr_lasso_best.score(X_train, y_train))\n",
    "print('Accuracy score - test: ', lr_lasso_best.score(X_test, y_test))\n",
    "print('Mean CV score - train: ', cross_val_score(lr_lasso_best, X_train, y_train, cv=5).mean())"
   ]
  },
  {
   "cell_type": "markdown",
   "id": "804d4abf",
   "metadata": {},
   "source": [
    "### Feature Importances"
   ]
  },
  {
   "cell_type": "code",
   "execution_count": null,
   "id": "8fba85f6",
   "metadata": {},
   "outputs": [],
   "source": [
    "feat_import = pd.DataFrame({\n",
    "    'Feature': X.columns,\n",
    "    'Coefficient': lr_lasso_best.coef_[0]\n",
    "})\n",
    "\n",
    "feat_import.sort_values('Coefficient', ascending=False, inplace=True)\n",
    "feat_import"
   ]
  },
  {
   "cell_type": "code",
   "execution_count": null,
   "id": "9cb9b380",
   "metadata": {},
   "outputs": [],
   "source": [
    "feat_import.head(10)"
   ]
  },
  {
   "cell_type": "code",
   "execution_count": null,
   "id": "9dc60fb0",
   "metadata": {},
   "outputs": [],
   "source": [
    "feat_import.tail(10)"
   ]
  },
  {
   "cell_type": "code",
   "execution_count": null,
   "id": "1529ed6e",
   "metadata": {},
   "outputs": [],
   "source": [
    "feat_import.head(10).plot(kind='barh', x='Feature', y='Coefficient', figsize=(8, 12), color='#FC5A50')\n",
    "plt.xlabel('Coefficient', fontsize=13)\n",
    "plt.ylabel('Feature', fontsize=13)\n",
    "plt.title('The Importance of Each Feature in Predicting Accommodation Type Allocation', fontsize=18, pad=20)\n",
    "plt.grid()\n",
    "plt.show();"
   ]
  },
  {
   "cell_type": "code",
   "execution_count": null,
   "id": "68df79e4",
   "metadata": {},
   "outputs": [],
   "source": [
    "feat_import.tail(10).plot(kind='barh', x='Feature', y='Coefficient', figsize=(8, 12), color='#FC5A50')\n",
    "plt.xlabel('Coefficient', fontsize=13)\n",
    "plt.ylabel('Feature', fontsize=13)\n",
    "plt.title('The Importance of Each Feature in Predicting Accommodation Type Allocation', fontsize=18, pad=20)\n",
    "plt.grid()\n",
    "plt.show();"
   ]
  },
  {
   "cell_type": "markdown",
   "id": "196366b2",
   "metadata": {},
   "source": [
    "### Evaluation"
   ]
  },
  {
   "cell_type": "code",
   "execution_count": null,
   "id": "250295e8",
   "metadata": {},
   "outputs": [],
   "source": [
    "import scikitplot as skplt"
   ]
  },
  {
   "cell_type": "code",
   "execution_count": null,
   "id": "fae0e6cf",
   "metadata": {},
   "outputs": [],
   "source": [
    "plot_confusion_matrix(lr_lasso_best, X_test, y_test, cmap='Blues', labels=[1, 0], values_format='.0f')\n",
    "plt.show()"
   ]
  },
  {
   "cell_type": "code",
   "execution_count": null,
   "id": "952202dc",
   "metadata": {},
   "outputs": [],
   "source": [
    "y_test_pred_lasso = lr_lasso_best.predict(X_test)"
   ]
  },
  {
   "cell_type": "code",
   "execution_count": null,
   "id": "383c2955",
   "metadata": {},
   "outputs": [],
   "source": [
    "print(classification_report(y_test, y_test_pred_lasso))"
   ]
  },
  {
   "cell_type": "code",
   "execution_count": null,
   "id": "02ea5911",
   "metadata": {},
   "outputs": [],
   "source": [
    "print(f1_score(y_test, y_test_pred_lasso))"
   ]
  },
  {
   "cell_type": "code",
   "execution_count": null,
   "id": "f2542cb8",
   "metadata": {},
   "outputs": [],
   "source": [
    "probabilities_train_lasso = lr_lasso_best.predict_proba(X_train)"
   ]
  },
  {
   "cell_type": "code",
   "execution_count": null,
   "id": "e67b3713",
   "metadata": {},
   "outputs": [],
   "source": [
    "from matplotlib.colors import ListedColormap\n",
    "cmap = ListedColormap(sns.color_palette(\"husl\", len(lr_lasso_best.classes_)))"
   ]
  },
  {
   "cell_type": "code",
   "execution_count": null,
   "id": "8002cec4",
   "metadata": {},
   "outputs": [],
   "source": [
    "skplt.metrics.plot_precision_recall(y_train, probabilities_train_lasso, cmap=cmap)\n",
    "plt.show()"
   ]
  },
  {
   "cell_type": "code",
   "execution_count": null,
   "id": "cd5e2ece",
   "metadata": {},
   "outputs": [],
   "source": [
    "print('Average precision score: ', average_precision_score(y_train, probabilities_train_lasso[:, 1]))"
   ]
  },
  {
   "cell_type": "code",
   "execution_count": null,
   "id": "dd13c8e2",
   "metadata": {},
   "outputs": [],
   "source": [
    "skplt.metrics.plot_roc(y_train, probabilities_train_lasso, cmap=cmap)\n",
    "plt.show()"
   ]
  },
  {
   "cell_type": "code",
   "execution_count": null,
   "id": "c15d391d",
   "metadata": {},
   "outputs": [],
   "source": [
    "print('Area under the curve : ', roc_auc_score(y_train, probabilities_train_lasso[:, 1]))"
   ]
  },
  {
   "cell_type": "markdown",
   "id": "634252fe",
   "metadata": {},
   "source": [
    "### Ridge Regularization - GridSearch"
   ]
  },
  {
   "cell_type": "code",
   "execution_count": null,
   "id": "5e570b3a",
   "metadata": {},
   "outputs": [],
   "source": [
    "lr_ridge = LogisticRegression(penalty='l2')"
   ]
  },
  {
   "cell_type": "code",
   "execution_count": null,
   "id": "a258707e",
   "metadata": {},
   "outputs": [],
   "source": [
    "params = {'C': np.linspace(1, 2, 10), \n",
    "        'solver' :['lbfgs', 'newton-cg', 'sag']}"
   ]
  },
  {
   "cell_type": "code",
   "execution_count": null,
   "id": "04c690fa",
   "metadata": {},
   "outputs": [],
   "source": [
    "lr_ridge_gs = GridSearchCV(estimator=lr_ridge, param_grid=params, cv=5)"
   ]
  },
  {
   "cell_type": "code",
   "execution_count": null,
   "id": "5de6d890",
   "metadata": {
    "scrolled": true
   },
   "outputs": [],
   "source": [
    "lr_ridge_gs.fit(X_train, y_train)"
   ]
  },
  {
   "cell_type": "code",
   "execution_count": null,
   "id": "d9b840c1",
   "metadata": {},
   "outputs": [],
   "source": [
    "lr_ridge_gs.best_params_"
   ]
  },
  {
   "cell_type": "markdown",
   "id": "099aff33",
   "metadata": {},
   "source": [
    "### Using the best parameters from the Grid Search - Ridge"
   ]
  },
  {
   "cell_type": "code",
   "execution_count": null,
   "id": "94556b04",
   "metadata": {},
   "outputs": [],
   "source": [
    "lr_ridge = LogisticRegression(penalty='l2', C = 1.0, solver = 'newton-cg')"
   ]
  },
  {
   "cell_type": "code",
   "execution_count": null,
   "id": "7720f848",
   "metadata": {},
   "outputs": [],
   "source": [
    "lr_ridge.fit(X_train, y_train)"
   ]
  },
  {
   "cell_type": "code",
   "execution_count": null,
   "id": "ca28f9d5",
   "metadata": {},
   "outputs": [],
   "source": [
    "print('Accuracy score - train: ', lr_ridge.score(X_train, y_train))\n",
    "print('Accuracy score - test: ', lr_ridge.score(X_test, y_test))\n",
    "print('Mean CV score - train: ', cross_val_score(lr_ridge, X_train, y_train, cv=5).mean())"
   ]
  },
  {
   "cell_type": "markdown",
   "id": "bf26e9ca",
   "metadata": {},
   "source": [
    "### Evaluation"
   ]
  },
  {
   "cell_type": "code",
   "execution_count": null,
   "id": "cac43fd0",
   "metadata": {},
   "outputs": [],
   "source": [
    "plot_confusion_matrix(lr_ridge, X_test, y_test, cmap='Blues', labels=[1, 0], values_format='.0f')\n",
    "plt.show()"
   ]
  },
  {
   "cell_type": "code",
   "execution_count": null,
   "id": "cb3fa07d",
   "metadata": {},
   "outputs": [],
   "source": [
    "y_test_pred_ridge = lr_ridge.predict(X_test)"
   ]
  },
  {
   "cell_type": "code",
   "execution_count": null,
   "id": "5593a9e8",
   "metadata": {},
   "outputs": [],
   "source": [
    "print(classification_report(y_test, y_test_pred_ridge))"
   ]
  },
  {
   "cell_type": "code",
   "execution_count": null,
   "id": "80f2c9c5",
   "metadata": {},
   "outputs": [],
   "source": [
    "print(f1_score(y_test, y_test_pred_ridge))"
   ]
  },
  {
   "cell_type": "code",
   "execution_count": null,
   "id": "f612fab6",
   "metadata": {},
   "outputs": [],
   "source": [
    "probabilities_train_ridge = lr_ridge.predict_proba(X_train)"
   ]
  },
  {
   "cell_type": "code",
   "execution_count": null,
   "id": "e1516142",
   "metadata": {},
   "outputs": [],
   "source": [
    "cmap = ListedColormap(sns.color_palette(\"husl\", len(lr_ridge.classes_)))"
   ]
  },
  {
   "cell_type": "code",
   "execution_count": null,
   "id": "bb7c262b",
   "metadata": {},
   "outputs": [],
   "source": [
    "skplt.metrics.plot_precision_recall(y_train, probabilities_train_ridge, cmap=cmap)\n",
    "plt.show()"
   ]
  },
  {
   "cell_type": "code",
   "execution_count": null,
   "id": "8783f50b",
   "metadata": {},
   "outputs": [],
   "source": [
    "print('Average precision score: ', average_precision_score(y_train, probabilities_train_ridge[:, 1]))"
   ]
  },
  {
   "cell_type": "code",
   "execution_count": null,
   "id": "ea1a373e",
   "metadata": {},
   "outputs": [],
   "source": [
    "skplt.metrics.plot_roc(y_train, probabilities_train_ridge, cmap=cmap)\n",
    "plt.show()"
   ]
  },
  {
   "cell_type": "code",
   "execution_count": null,
   "id": "a4770af8",
   "metadata": {},
   "outputs": [],
   "source": [
    "print('Area under the curve: ', roc_auc_score(y_train, probabilities_train_ridge[:, 1]))"
   ]
  },
  {
   "cell_type": "code",
   "execution_count": null,
   "id": "d588aad6",
   "metadata": {},
   "outputs": [],
   "source": [
    "######Elastic net#######"
   ]
  },
  {
   "cell_type": "code",
   "execution_count": null,
   "id": "3914376a",
   "metadata": {},
   "outputs": [],
   "source": [
    "lr_en = LogisticRegression(penalty = 'elasticnet', solver='saga')\n"
   ]
  },
  {
   "cell_type": "code",
   "execution_count": null,
   "id": "f4443cb6",
   "metadata": {},
   "outputs": [],
   "source": [
    "params = {'C': np.linspace(1, 2, 10), 'l1_ratio' : range(0, 1)}"
   ]
  },
  {
   "cell_type": "code",
   "execution_count": null,
   "id": "f007c20f",
   "metadata": {},
   "outputs": [],
   "source": [
    "lr_en_gs = GridSearchCV(estimator=lr_en, param_grid=params, cv=5)"
   ]
  },
  {
   "cell_type": "code",
   "execution_count": null,
   "id": "58345c85",
   "metadata": {},
   "outputs": [],
   "source": [
    "lr_en_gs.fit(X_train, y_train)"
   ]
  },
  {
   "cell_type": "code",
   "execution_count": null,
   "id": "b082f99d",
   "metadata": {},
   "outputs": [],
   "source": [
    "lr_en_gs.best_params_"
   ]
  },
  {
   "cell_type": "code",
   "execution_count": null,
   "id": "ee59c9c1",
   "metadata": {},
   "outputs": [],
   "source": [
    "lr_en_gs.best_score_"
   ]
  },
  {
   "cell_type": "code",
   "execution_count": null,
   "id": "36726f3c",
   "metadata": {},
   "outputs": [],
   "source": [
    "lr_en_best = LogisticRegression(penalty='elasticnet', C = 1.7777777777777777, solver = 'saga', l1_ratio=0)"
   ]
  },
  {
   "cell_type": "code",
   "execution_count": null,
   "id": "e2ecb397",
   "metadata": {},
   "outputs": [],
   "source": [
    "lr_en_best.fit(X_train, y_train)"
   ]
  },
  {
   "cell_type": "code",
   "execution_count": null,
   "id": "8e7aeffa",
   "metadata": {},
   "outputs": [],
   "source": [
    "print('Accuracy score - train: ', lr_en_best.score(X_train, y_train))\n",
    "print('Accuracy score - test: ', lr_en_best.score(X_test, y_test))\n",
    "print('Mean CV score - train: ', cross_val_score(lr_en_best, X_train, y_train, cv=5).mean())"
   ]
  }
 ],
 "metadata": {
  "kernelspec": {
   "display_name": "Python 3",
   "language": "python",
   "name": "python3"
  },
  "language_info": {
   "codemirror_mode": {
    "name": "ipython",
    "version": 3
   },
   "file_extension": ".py",
   "mimetype": "text/x-python",
   "name": "python",
   "nbconvert_exporter": "python",
   "pygments_lexer": "ipython3",
   "version": "3.8.8"
  }
 },
 "nbformat": 4,
 "nbformat_minor": 5
}
