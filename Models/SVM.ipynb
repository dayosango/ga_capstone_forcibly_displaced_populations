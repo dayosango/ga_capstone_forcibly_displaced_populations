{
 "cells": [
  {
   "cell_type": "code",
   "execution_count": 1,
   "id": "a12a503a",
   "metadata": {},
   "outputs": [],
   "source": [
    "import pandas as pd\n",
    "import numpy as np\n",
    "from pprint import pprint\n",
    "import requests\n",
    "import re\n",
    "import seaborn as sns\n",
    "import matplotlib.pyplot as plt\n",
    "from matplotlib import rc"
   ]
  },
  {
   "cell_type": "code",
   "execution_count": 15,
   "id": "b196affa",
   "metadata": {},
   "outputs": [],
   "source": [
    "from sklearn.linear_model import LinearRegression, Lasso, Ridge\n",
    "from sklearn.preprocessing import StandardScaler, PolynomialFeatures\n",
    "from sklearn.model_selection import train_test_split, cross_val_score, cross_val_predict, KFold\n",
    "from sklearn.linear_model import LogisticRegression, LogisticRegressionCV\n",
    "from sklearn.model_selection import GridSearchCV\n",
    "from pactools.grid_search import GridSearchCVProgressBar\n",
    "from sklearn.metrics import  plot_confusion_matrix, plot_roc_curve, plot_precision_recall_curve, roc_auc_score, average_precision_score\n",
    "from sklearn.preprocessing import label_binarize\n",
    "import imblearn\n",
    "from collections import Counter\n",
    "from sklearn.datasets import make_classification\n",
    "from imblearn.over_sampling import SMOTE \n",
    "from sklearn.neighbors import KNeighborsClassifier\n",
    "from sklearn.tree import DecisionTreeClassifier\n",
    "from sklearn.svm import SVC, LinearSVC\n",
    "from sklearn.ensemble import RandomForestClassifier, ExtraTreesClassifier\n",
    "from sklearn.metrics import recall_score, precision_score, f1_score, classification_report\n",
    "from sklearn import preprocessing\n",
    "import scikitplot as skplt\n",
    "import warnings"
   ]
  },
  {
   "cell_type": "code",
   "execution_count": 3,
   "id": "a889e0f5",
   "metadata": {},
   "outputs": [
    {
     "name": "stderr",
     "output_type": "stream",
     "text": [
      "/Users/dayosangowawa/opt/anaconda3/lib/python3.8/site-packages/ipykernel/ipkernel.py:287: DeprecationWarning: `should_run_async` will not call `transform_cell` automatically in the future. Please pass the result to `transformed_cell` argument and any exception that happen during thetransform in `preprocessing_exc_tuple` in IPython 7.17 and above.\n",
      "  and should_run_async(code)\n"
     ]
    }
   ],
   "source": [
    "warnings.filterwarnings('ignore')"
   ]
  },
  {
   "cell_type": "code",
   "execution_count": 4,
   "id": "12ddedd1",
   "metadata": {},
   "outputs": [
    {
     "data": {
      "text/html": [
       "<div>\n",
       "<style scoped>\n",
       "    .dataframe tbody tr th:only-of-type {\n",
       "        vertical-align: middle;\n",
       "    }\n",
       "\n",
       "    .dataframe tbody tr th {\n",
       "        vertical-align: top;\n",
       "    }\n",
       "\n",
       "    .dataframe thead th {\n",
       "        text-align: right;\n",
       "    }\n",
       "</style>\n",
       "<table border=\"1\" class=\"dataframe\">\n",
       "  <thead>\n",
       "    <tr style=\"text-align: right;\">\n",
       "      <th></th>\n",
       "      <th>Unnamed: 0</th>\n",
       "      <th>country_of_origin</th>\n",
       "      <th>country_of_asylum</th>\n",
       "      <th>population_type</th>\n",
       "      <th>urban_or_rural_location</th>\n",
       "      <th>accommodation_type</th>\n",
       "      <th>female_aged_0-4 years</th>\n",
       "      <th>female_aged_5-11 years</th>\n",
       "      <th>female_aged_12-17 years</th>\n",
       "      <th>female_aged_18-59 years</th>\n",
       "      <th>female_aged_over_60_years</th>\n",
       "      <th>male_aged_0-4_years</th>\n",
       "      <th>male_aged_5-11_years</th>\n",
       "      <th>male_aged_12-17 years</th>\n",
       "      <th>male_aged_18-59_years</th>\n",
       "      <th>male_aged_over_60_years</th>\n",
       "    </tr>\n",
       "  </thead>\n",
       "  <tbody>\n",
       "    <tr>\n",
       "      <th>0</th>\n",
       "      <td>0</td>\n",
       "      <td>Colombia</td>\n",
       "      <td>Aruba</td>\n",
       "      <td>ASY</td>\n",
       "      <td>Urban</td>\n",
       "      <td>I</td>\n",
       "      <td>0</td>\n",
       "      <td>0</td>\n",
       "      <td>0</td>\n",
       "      <td>0</td>\n",
       "      <td>0</td>\n",
       "      <td>0</td>\n",
       "      <td>0</td>\n",
       "      <td>0</td>\n",
       "      <td>5</td>\n",
       "      <td>0</td>\n",
       "    </tr>\n",
       "    <tr>\n",
       "      <th>1</th>\n",
       "      <td>1</td>\n",
       "      <td>Cuba</td>\n",
       "      <td>Aruba</td>\n",
       "      <td>ASY</td>\n",
       "      <td>Urban</td>\n",
       "      <td>I</td>\n",
       "      <td>0</td>\n",
       "      <td>0</td>\n",
       "      <td>0</td>\n",
       "      <td>0</td>\n",
       "      <td>0</td>\n",
       "      <td>0</td>\n",
       "      <td>0</td>\n",
       "      <td>0</td>\n",
       "      <td>0</td>\n",
       "      <td>0</td>\n",
       "    </tr>\n",
       "    <tr>\n",
       "      <th>2</th>\n",
       "      <td>2</td>\n",
       "      <td>Afghanistan</td>\n",
       "      <td>Afghanistan</td>\n",
       "      <td>IDP</td>\n",
       "      <td>Rural</td>\n",
       "      <td>I</td>\n",
       "      <td>0</td>\n",
       "      <td>14</td>\n",
       "      <td>16</td>\n",
       "      <td>37</td>\n",
       "      <td>0</td>\n",
       "      <td>0</td>\n",
       "      <td>15</td>\n",
       "      <td>17</td>\n",
       "      <td>38</td>\n",
       "      <td>5</td>\n",
       "    </tr>\n",
       "    <tr>\n",
       "      <th>3</th>\n",
       "      <td>3</td>\n",
       "      <td>Afghanistan</td>\n",
       "      <td>Afghanistan</td>\n",
       "      <td>IDP</td>\n",
       "      <td>Urban</td>\n",
       "      <td>Q</td>\n",
       "      <td>74</td>\n",
       "      <td>810</td>\n",
       "      <td>853</td>\n",
       "      <td>2004</td>\n",
       "      <td>140</td>\n",
       "      <td>75</td>\n",
       "      <td>840</td>\n",
       "      <td>921</td>\n",
       "      <td>2278</td>\n",
       "      <td>206</td>\n",
       "    </tr>\n",
       "    <tr>\n",
       "      <th>4</th>\n",
       "      <td>4</td>\n",
       "      <td>Afghanistan</td>\n",
       "      <td>Afghanistan</td>\n",
       "      <td>IDP</td>\n",
       "      <td>Urban</td>\n",
       "      <td>Q</td>\n",
       "      <td>12</td>\n",
       "      <td>130</td>\n",
       "      <td>138</td>\n",
       "      <td>321</td>\n",
       "      <td>21</td>\n",
       "      <td>12</td>\n",
       "      <td>135</td>\n",
       "      <td>147</td>\n",
       "      <td>365</td>\n",
       "      <td>33</td>\n",
       "    </tr>\n",
       "  </tbody>\n",
       "</table>\n",
       "</div>"
      ],
      "text/plain": [
       "   Unnamed: 0 country_of_origin country_of_asylum population_type  \\\n",
       "0           0          Colombia             Aruba             ASY   \n",
       "1           1              Cuba             Aruba             ASY   \n",
       "2           2       Afghanistan       Afghanistan             IDP   \n",
       "3           3       Afghanistan       Afghanistan             IDP   \n",
       "4           4       Afghanistan       Afghanistan             IDP   \n",
       "\n",
       "  urban_or_rural_location accommodation_type  female_aged_0-4 years  \\\n",
       "0                   Urban                  I                      0   \n",
       "1                   Urban                  I                      0   \n",
       "2                   Rural                  I                      0   \n",
       "3                   Urban                  Q                     74   \n",
       "4                   Urban                  Q                     12   \n",
       "\n",
       "   female_aged_5-11 years  female_aged_12-17 years  female_aged_18-59 years  \\\n",
       "0                       0                        0                        0   \n",
       "1                       0                        0                        0   \n",
       "2                      14                       16                       37   \n",
       "3                     810                      853                     2004   \n",
       "4                     130                      138                      321   \n",
       "\n",
       "   female_aged_over_60_years  male_aged_0-4_years  male_aged_5-11_years  \\\n",
       "0                          0                    0                     0   \n",
       "1                          0                    0                     0   \n",
       "2                          0                    0                    15   \n",
       "3                        140                   75                   840   \n",
       "4                         21                   12                   135   \n",
       "\n",
       "   male_aged_12-17 years  male_aged_18-59_years  male_aged_over_60_years  \n",
       "0                      0                      5                        0  \n",
       "1                      0                      0                        0  \n",
       "2                     17                     38                        5  \n",
       "3                    921                   2278                      206  \n",
       "4                    147                    365                       33  "
      ]
     },
     "execution_count": 4,
     "metadata": {},
     "output_type": "execute_result"
    }
   ],
   "source": [
    "binarized_df = pd.read_csv('/Users/dayosangowawa/Desktop/GA/DSI20-lessons/projects/project-capstone/My Capstone/Forcibly displaced persons - Capstone Dayo Sangowawa/cleaned_unhcrdf_final.csv')\n",
    "binarized_df.head()"
   ]
  },
  {
   "cell_type": "code",
   "execution_count": 5,
   "id": "d9854b94",
   "metadata": {},
   "outputs": [],
   "source": [
    "binarized_df.drop(columns = ['Unnamed: 0'], inplace=True)"
   ]
  },
  {
   "cell_type": "code",
   "execution_count": 6,
   "id": "15feebb5",
   "metadata": {},
   "outputs": [],
   "source": [
    "y = binarized_df.pop('accommodation_type')\n",
    "X = pd.get_dummies(binarized_df, drop_first=True)"
   ]
  },
  {
   "cell_type": "code",
   "execution_count": 7,
   "id": "53c9f856",
   "metadata": {},
   "outputs": [
    {
     "name": "stdout",
     "output_type": "stream",
     "text": [
      "Baseline prediction:  0.7486373556474343\n"
     ]
    }
   ],
   "source": [
    "print('Baseline prediction: ', y.value_counts(normalize=True).max())"
   ]
  },
  {
   "cell_type": "code",
   "execution_count": 8,
   "id": "e74d30a6",
   "metadata": {},
   "outputs": [],
   "source": [
    "lb = preprocessing.LabelBinarizer()"
   ]
  },
  {
   "cell_type": "code",
   "execution_count": 9,
   "id": "1d46bc8b",
   "metadata": {},
   "outputs": [],
   "source": [
    "y = lb.fit_transform(y)\n",
    "\n",
    "#'0 'if it is 'I 'and '1' if it is 'other'. "
   ]
  },
  {
   "cell_type": "code",
   "execution_count": 10,
   "id": "c75d3b89",
   "metadata": {},
   "outputs": [
    {
     "data": {
      "text/plain": [
       "array([[0],\n",
       "       [0],\n",
       "       [0],\n",
       "       ...,\n",
       "       [0],\n",
       "       [1],\n",
       "       [0]])"
      ]
     },
     "execution_count": 10,
     "metadata": {},
     "output_type": "execute_result"
    }
   ],
   "source": [
    "y"
   ]
  },
  {
   "cell_type": "code",
   "execution_count": 11,
   "id": "d775c581",
   "metadata": {},
   "outputs": [],
   "source": [
    "y = y.ravel()"
   ]
  },
  {
   "cell_type": "code",
   "execution_count": 12,
   "id": "b1b5cd59",
   "metadata": {},
   "outputs": [],
   "source": [
    "X_train, X_test, y_train, y_test = train_test_split(\n",
    "    X, y, stratify=y, test_size=0.2, random_state=1)"
   ]
  },
  {
   "cell_type": "code",
   "execution_count": 13,
   "id": "24f17ce4",
   "metadata": {},
   "outputs": [
    {
     "data": {
      "text/plain": [
       "(72946, 407)"
      ]
     },
     "execution_count": 13,
     "metadata": {},
     "output_type": "execute_result"
    }
   ],
   "source": [
    "X_train.shape"
   ]
  },
  {
   "cell_type": "code",
   "execution_count": 17,
   "id": "9b87217a",
   "metadata": {},
   "outputs": [],
   "source": [
    "lsvc = LinearSVC()"
   ]
  },
  {
   "cell_type": "code",
   "execution_count": 18,
   "id": "f0ae7754",
   "metadata": {},
   "outputs": [
    {
     "data": {
      "text/plain": [
       "LinearSVC()"
      ]
     },
     "execution_count": 18,
     "metadata": {},
     "output_type": "execute_result"
    }
   ],
   "source": [
    "lsvc.fit(X_train, y_train)"
   ]
  },
  {
   "cell_type": "code",
   "execution_count": 21,
   "id": "92a374c0",
   "metadata": {},
   "outputs": [
    {
     "name": "stdout",
     "output_type": "stream",
     "text": [
      "Accuracy score - train set: 0.8960052641680147\n",
      "Accuracy score - test set: 0.8962548664802324\n",
      "Mean CV score - train:  0.8883283005293171\n"
     ]
    }
   ],
   "source": [
    "print('Accuracy score - train set:', lsvc.score(X_train, y_train))\n",
    "print('Accuracy score - test set:', lsvc.score(X_test, y_test))\n",
    "print('Mean CV score - train: ', cross_val_score(lsvc, X_train, y_train, cv=5).mean())"
   ]
  },
  {
   "cell_type": "code",
   "execution_count": null,
   "id": "89ab266b",
   "metadata": {},
   "outputs": [],
   "source": []
  },
  {
   "cell_type": "code",
   "execution_count": 32,
   "id": "8472ec10",
   "metadata": {},
   "outputs": [],
   "source": [
    "params = {'penalty': ['l1', 'l2'], \n",
    "        'loss' :['hinge', 'squared_hinge'],\n",
    "         'C': np.linspace(1, 2, 10)}"
   ]
  },
  {
   "cell_type": "code",
   "execution_count": 33,
   "id": "ffc805a4",
   "metadata": {},
   "outputs": [],
   "source": [
    "lsvc_gs = GridSearchCV(estimator= lsvc, param_grid=params, cv=5)"
   ]
  },
  {
   "cell_type": "code",
   "execution_count": 34,
   "id": "cf710670",
   "metadata": {},
   "outputs": [
    {
     "data": {
      "text/plain": [
       "GridSearchCV(cv=5, estimator=LinearSVC(),\n",
       "             param_grid={'C': array([1.        , 1.11111111, 1.22222222, 1.33333333, 1.44444444,\n",
       "       1.55555556, 1.66666667, 1.77777778, 1.88888889, 2.        ]),\n",
       "                         'loss': ['hinge', 'squared_hinge'],\n",
       "                         'penalty': ['l1', 'l2']})"
      ]
     },
     "execution_count": 34,
     "metadata": {},
     "output_type": "execute_result"
    }
   ],
   "source": [
    "lsvc_gs.fit(X_train, y_train)"
   ]
  },
  {
   "cell_type": "code",
   "execution_count": 36,
   "id": "9e40417e",
   "metadata": {},
   "outputs": [
    {
     "data": {
      "text/plain": [
       "0.8954431702817585"
      ]
     },
     "execution_count": 36,
     "metadata": {},
     "output_type": "execute_result"
    }
   ],
   "source": [
    "lsvc_gs.best_score_"
   ]
  },
  {
   "cell_type": "code",
   "execution_count": 37,
   "id": "0f29351d",
   "metadata": {},
   "outputs": [
    {
     "data": {
      "text/plain": [
       "{'C': 1.1111111111111112, 'loss': 'hinge', 'penalty': 'l2'}"
      ]
     },
     "execution_count": 37,
     "metadata": {},
     "output_type": "execute_result"
    }
   ],
   "source": [
    "lsvc_gs.best_params_"
   ]
  },
  {
   "cell_type": "code",
   "execution_count": 38,
   "id": "b1bffa21",
   "metadata": {},
   "outputs": [],
   "source": [
    "lsvc_best = LinearSVC(C = 1.1111111111111112, loss = 'hinge', penalty= 'l2')"
   ]
  },
  {
   "cell_type": "code",
   "execution_count": 40,
   "id": "0c770266",
   "metadata": {},
   "outputs": [
    {
     "data": {
      "text/plain": [
       "LinearSVC(C=1.1111111111111112, loss='hinge')"
      ]
     },
     "execution_count": 40,
     "metadata": {},
     "output_type": "execute_result"
    }
   ],
   "source": [
    "lsvc_best.fit(X_train, y_train)"
   ]
  },
  {
   "cell_type": "code",
   "execution_count": 41,
   "id": "b54f3a09",
   "metadata": {},
   "outputs": [
    {
     "name": "stdout",
     "output_type": "stream",
     "text": [
      "Accuracy score - train set: 0.8952649905409481\n",
      "Accuracy score - test set: 0.894226024017108\n",
      "Mean CV score - train:  0.8809939305205725\n"
     ]
    }
   ],
   "source": [
    "print('Accuracy score - train set:', lsvc_best.score(X_train, y_train))\n",
    "print('Accuracy score - test set:', lsvc_best.score(X_test, y_test))\n",
    "print('Mean CV score - train: ', cross_val_score(lsvc_best, X_train, y_train, cv=5).mean())"
   ]
  },
  {
   "cell_type": "code",
   "execution_count": 42,
   "id": "d548b483",
   "metadata": {},
   "outputs": [],
   "source": [
    "y_test_pred = lsvc_best.predict(X_test)"
   ]
  },
  {
   "cell_type": "code",
   "execution_count": 43,
   "id": "c0fdb4b4",
   "metadata": {},
   "outputs": [
    {
     "data": {
      "image/png": "[encoded data removed]",
      "text/plain": [
       "<Figure size 432x288 with 2 Axes>"
      ]
     },
     "metadata": {
      "needs_background": "light"
     },
     "output_type": "display_data"
    }
   ],
   "source": [
    "confus_matrix = plot_confusion_matrix(lsvc_best, X_test, y_test, cmap='Blues', labels=[1, 0], values_format='.0f')\n",
    "plt.savefig('rfc_confusion_matrix.png', dpi=300, bbox_inches = \"tight\")\n",
    "plt.show()"
   ]
  },
  {
   "cell_type": "code",
   "execution_count": 44,
   "id": "c89b97b5",
   "metadata": {},
   "outputs": [
    {
     "name": "stdout",
     "output_type": "stream",
     "text": [
      "              precision    recall  f1-score   support\n",
      "\n",
      "           0       0.92      0.94      0.93     13653\n",
      "           1       0.82      0.74      0.78      4584\n",
      "\n",
      "    accuracy                           0.89     18237\n",
      "   macro avg       0.87      0.84      0.85     18237\n",
      "weighted avg       0.89      0.89      0.89     18237\n",
      "\n"
     ]
    }
   ],
   "source": [
    "print(classification_report(y_test, y_test_pred))"
   ]
  },
  {
   "cell_type": "code",
   "execution_count": 49,
   "id": "4b4447b8",
   "metadata": {},
   "outputs": [],
   "source": [
    "y_train_pred = lsvc_best.predict(X_train)"
   ]
  },
  {
   "cell_type": "code",
   "execution_count": 50,
   "id": "86bf81e7",
   "metadata": {},
   "outputs": [
    {
     "name": "stdout",
     "output_type": "stream",
     "text": [
      "Area under the curve :  0.8461865818801445\n"
     ]
    }
   ],
   "source": [
    "print('Area under the curve : ', roc_auc_score(y_train, y_train_pred))"
   ]
  }
 ],
 "metadata": {
  "kernelspec": {
   "display_name": "Python 3",
   "language": "python",
   "name": "python3"
  },
  "language_info": {
   "codemirror_mode": {
    "name": "ipython",
    "version": 3
   },
   "file_extension": ".py",
   "mimetype": "text/x-python",
   "name": "python",
   "nbconvert_exporter": "python",
   "pygments_lexer": "ipython3",
   "version": "3.8.8"
  }
 },
 "nbformat": 4,
 "nbformat_minor": 5
}
