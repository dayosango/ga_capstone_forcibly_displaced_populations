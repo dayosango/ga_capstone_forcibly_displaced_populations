{
 "cells": [
  {
   "cell_type": "markdown",
   "id": "1b507b3e",
   "metadata": {},
   "source": [
    "\n",
    "# UNHCR Forcibly Displaced Populations Casptone Project\n",
    "\n",
    "## Comparison of Model Scores\n",
    "\n",
    "---\n"
   ]
  },
  {
   "cell_type": "code",
   "execution_count": 4,
   "id": "99e757c1",
   "metadata": {},
   "outputs": [],
   "source": [
    "import pandas as pd\n",
    "import numpy as np\n",
    "import seaborn as sns\n",
    "import matplotlib.pyplot as plt\n",
    "import warnings"
   ]
  },
  {
   "cell_type": "code",
   "execution_count": 5,
   "id": "31a48742",
   "metadata": {},
   "outputs": [],
   "source": [
    "warnings.filterwarnings('ignore')"
   ]
  },
  {
   "cell_type": "code",
   "execution_count": 6,
   "id": "832977fc",
   "metadata": {},
   "outputs": [],
   "source": [
    "#Baseline prediction: 0.8497186815375424"
   ]
  },
  {
   "cell_type": "code",
   "execution_count": 7,
   "id": "0e403210",
   "metadata": {},
   "outputs": [],
   "source": [
    "scores = pd.DataFrame(columns=['Model', 'Training Accuracy Score', 'Test Accuracy Score', 'Mean CV Score', 'AUC'],\n",
    "                     )"
   ]
  },
  {
   "cell_type": "code",
   "execution_count": 13,
   "id": "289e82bc",
   "metadata": {},
   "outputs": [],
   "source": [
    "models = {'Decision Tree':[ 0.9410904338084272, 0.940689569330346, 0.9396278060428639, 0.9260894539790785],\n",
    "          'Random Forest': [0.9871631293956556, 0.9564973861090366, 0.9550320241580806, 0.9986798139286128], \n",
    "          'KNN': [0.9622362606584925, 0.94865571321882, 0.9434399252521277, 0.9898582434855276], \n",
    "          'Naive Bayes': [0.8634623762992469, 0.863579785909883, 0.8631511453415663, 0.8062707544364074], \n",
    "          'Neural Networks': [0.9186932799605187, 0.9183527992542633, 0.9193238739638355, 0.9659121888375225],\n",
    "        'Logistic Regression - Ridge': [0.9148685328873413, 0.9165981246915611, 0.913895216480104, 0.9633526119128724] , \n",
    "          'Logistic Regression - Lasso': [0.9148411153455981, 0.9166529582716455, 0.9138677995021084, 0.9633274283807791],\n",
    "         'Linear SVM': [0.9248148378664343, 0.9244461040577545, 0.922558725624463, 0.8450459742607543]}"
   ]
  },
  {
   "cell_type": "code",
   "execution_count": 14,
   "id": "b9c3a71f",
   "metadata": {},
   "outputs": [
    {
     "data": {
      "text/html": [
       "<div>\n",
       "<style scoped>\n",
       "    .dataframe tbody tr th:only-of-type {\n",
       "        vertical-align: middle;\n",
       "    }\n",
       "\n",
       "    .dataframe tbody tr th {\n",
       "        vertical-align: top;\n",
       "    }\n",
       "\n",
       "    .dataframe thead th {\n",
       "        text-align: right;\n",
       "    }\n",
       "</style>\n",
       "<table border=\"1\" class=\"dataframe\">\n",
       "  <thead>\n",
       "    <tr style=\"text-align: right;\">\n",
       "      <th></th>\n",
       "      <th>0</th>\n",
       "      <th>1</th>\n",
       "      <th>2</th>\n",
       "      <th>3</th>\n",
       "    </tr>\n",
       "  </thead>\n",
       "  <tbody>\n",
       "    <tr>\n",
       "      <th>Decision Tree</th>\n",
       "      <td>0.941090</td>\n",
       "      <td>0.940690</td>\n",
       "      <td>0.939628</td>\n",
       "      <td>0.926089</td>\n",
       "    </tr>\n",
       "    <tr>\n",
       "      <th>Random Forest</th>\n",
       "      <td>0.987163</td>\n",
       "      <td>0.956497</td>\n",
       "      <td>0.955032</td>\n",
       "      <td>0.998680</td>\n",
       "    </tr>\n",
       "    <tr>\n",
       "      <th>KNN</th>\n",
       "      <td>0.962236</td>\n",
       "      <td>0.948656</td>\n",
       "      <td>0.943440</td>\n",
       "      <td>0.989858</td>\n",
       "    </tr>\n",
       "    <tr>\n",
       "      <th>Naive Bayes</th>\n",
       "      <td>0.863462</td>\n",
       "      <td>0.863580</td>\n",
       "      <td>0.863151</td>\n",
       "      <td>0.806271</td>\n",
       "    </tr>\n",
       "    <tr>\n",
       "      <th>Neural Networks</th>\n",
       "      <td>0.918693</td>\n",
       "      <td>0.918353</td>\n",
       "      <td>0.919324</td>\n",
       "      <td>0.965912</td>\n",
       "    </tr>\n",
       "    <tr>\n",
       "      <th>Logistic Regression - Ridge</th>\n",
       "      <td>0.914869</td>\n",
       "      <td>0.916598</td>\n",
       "      <td>0.913895</td>\n",
       "      <td>0.963353</td>\n",
       "    </tr>\n",
       "    <tr>\n",
       "      <th>Logistic Regression - Lasso</th>\n",
       "      <td>0.914841</td>\n",
       "      <td>0.916653</td>\n",
       "      <td>0.913868</td>\n",
       "      <td>0.963327</td>\n",
       "    </tr>\n",
       "    <tr>\n",
       "      <th>Linear SVM</th>\n",
       "      <td>0.924815</td>\n",
       "      <td>0.924446</td>\n",
       "      <td>0.922559</td>\n",
       "      <td>0.845046</td>\n",
       "    </tr>\n",
       "  </tbody>\n",
       "</table>\n",
       "</div>"
      ],
      "text/plain": [
       "                                    0         1         2         3\n",
       "Decision Tree                0.941090  0.940690  0.939628  0.926089\n",
       "Random Forest                0.987163  0.956497  0.955032  0.998680\n",
       "KNN                          0.962236  0.948656  0.943440  0.989858\n",
       "Naive Bayes                  0.863462  0.863580  0.863151  0.806271\n",
       "Neural Networks              0.918693  0.918353  0.919324  0.965912\n",
       "Logistic Regression - Ridge  0.914869  0.916598  0.913895  0.963353\n",
       "Logistic Regression - Lasso  0.914841  0.916653  0.913868  0.963327\n",
       "Linear SVM                   0.924815  0.924446  0.922559  0.845046"
      ]
     },
     "execution_count": 14,
     "metadata": {},
     "output_type": "execute_result"
    }
   ],
   "source": [
    "model_df = pd.DataFrame(models).T\n",
    "model_df"
   ]
  },
  {
   "cell_type": "code",
   "execution_count": 15,
   "id": "96fe638c",
   "metadata": {},
   "outputs": [],
   "source": [
    "model_df = model_df.rename(columns = {0: 'Accuracy score - train', 1: 'Accuracy score - test',\n",
    "                                     2: 'Mean CV Score', 3: 'AUC'})"
   ]
  },
  {
   "cell_type": "code",
   "execution_count": 16,
   "id": "9bf00910",
   "metadata": {},
   "outputs": [
    {
     "data": {
      "text/html": [
       "<div>\n",
       "<style scoped>\n",
       "    .dataframe tbody tr th:only-of-type {\n",
       "        vertical-align: middle;\n",
       "    }\n",
       "\n",
       "    .dataframe tbody tr th {\n",
       "        vertical-align: top;\n",
       "    }\n",
       "\n",
       "    .dataframe thead th {\n",
       "        text-align: right;\n",
       "    }\n",
       "</style>\n",
       "<table border=\"1\" class=\"dataframe\">\n",
       "  <thead>\n",
       "    <tr style=\"text-align: right;\">\n",
       "      <th></th>\n",
       "      <th>Accuracy score - train</th>\n",
       "      <th>Accuracy score - test</th>\n",
       "      <th>Mean CV Score</th>\n",
       "      <th>AUC</th>\n",
       "    </tr>\n",
       "  </thead>\n",
       "  <tbody>\n",
       "    <tr>\n",
       "      <th>Decision Tree</th>\n",
       "      <td>0.941</td>\n",
       "      <td>0.941</td>\n",
       "      <td>0.940</td>\n",
       "      <td>0.926</td>\n",
       "    </tr>\n",
       "    <tr>\n",
       "      <th>Random Forest</th>\n",
       "      <td>0.987</td>\n",
       "      <td>0.956</td>\n",
       "      <td>0.955</td>\n",
       "      <td>0.999</td>\n",
       "    </tr>\n",
       "    <tr>\n",
       "      <th>KNN</th>\n",
       "      <td>0.962</td>\n",
       "      <td>0.949</td>\n",
       "      <td>0.943</td>\n",
       "      <td>0.990</td>\n",
       "    </tr>\n",
       "    <tr>\n",
       "      <th>Naive Bayes</th>\n",
       "      <td>0.863</td>\n",
       "      <td>0.864</td>\n",
       "      <td>0.863</td>\n",
       "      <td>0.806</td>\n",
       "    </tr>\n",
       "    <tr>\n",
       "      <th>Neural Networks</th>\n",
       "      <td>0.919</td>\n",
       "      <td>0.918</td>\n",
       "      <td>0.919</td>\n",
       "      <td>0.966</td>\n",
       "    </tr>\n",
       "    <tr>\n",
       "      <th>Logistic Regression - Ridge</th>\n",
       "      <td>0.915</td>\n",
       "      <td>0.917</td>\n",
       "      <td>0.914</td>\n",
       "      <td>0.963</td>\n",
       "    </tr>\n",
       "    <tr>\n",
       "      <th>Logistic Regression - Lasso</th>\n",
       "      <td>0.915</td>\n",
       "      <td>0.917</td>\n",
       "      <td>0.914</td>\n",
       "      <td>0.963</td>\n",
       "    </tr>\n",
       "    <tr>\n",
       "      <th>Linear SVM</th>\n",
       "      <td>0.925</td>\n",
       "      <td>0.924</td>\n",
       "      <td>0.923</td>\n",
       "      <td>0.845</td>\n",
       "    </tr>\n",
       "  </tbody>\n",
       "</table>\n",
       "</div>"
      ],
      "text/plain": [
       "                             Accuracy score - train  Accuracy score - test  \\\n",
       "Decision Tree                                 0.941                  0.941   \n",
       "Random Forest                                 0.987                  0.956   \n",
       "KNN                                           0.962                  0.949   \n",
       "Naive Bayes                                   0.863                  0.864   \n",
       "Neural Networks                               0.919                  0.918   \n",
       "Logistic Regression - Ridge                   0.915                  0.917   \n",
       "Logistic Regression - Lasso                   0.915                  0.917   \n",
       "Linear SVM                                    0.925                  0.924   \n",
       "\n",
       "                             Mean CV Score    AUC  \n",
       "Decision Tree                        0.940  0.926  \n",
       "Random Forest                        0.955  0.999  \n",
       "KNN                                  0.943  0.990  \n",
       "Naive Bayes                          0.863  0.806  \n",
       "Neural Networks                      0.919  0.966  \n",
       "Logistic Regression - Ridge          0.914  0.963  \n",
       "Logistic Regression - Lasso          0.914  0.963  \n",
       "Linear SVM                           0.923  0.845  "
      ]
     },
     "execution_count": 16,
     "metadata": {},
     "output_type": "execute_result"
    }
   ],
   "source": [
    "model_df.round(3)"
   ]
  },
  {
   "cell_type": "code",
   "execution_count": 17,
   "id": "c91e29d8",
   "metadata": {},
   "outputs": [
    {
     "data": {
      "image/png": "[encoded data removed]",
      "text/plain": [
       "<Figure size 432x288 with 1 Axes>"
      ]
     },
     "metadata": {
      "needs_background": "light"
     },
     "output_type": "display_data"
    }
   ],
   "source": [
    "model_df.plot(kind='barh', colormap='seismic')\n",
    "plt.legend(loc=\"upper right\", bbox_to_anchor=(1.5, 1))\n",
    "plt.savefig('model_score_comparison.png', dpi=300, bbox_inches = \"tight\")\n",
    "plt.show();"
   ]
  },
  {
   "cell_type": "code",
   "execution_count": null,
   "id": "8e5f170c",
   "metadata": {},
   "outputs": [],
   "source": []
  }
 ],
 "metadata": {
  "kernelspec": {
   "display_name": "Python 3",
   "language": "python",
   "name": "python3"
  },
  "language_info": {
   "codemirror_mode": {
    "name": "ipython",
    "version": 3
   },
   "file_extension": ".py",
   "mimetype": "text/x-python",
   "name": "python",
   "nbconvert_exporter": "python",
   "pygments_lexer": "ipython3",
   "version": "3.8.8"
  }
 },
 "nbformat": 4,
 "nbformat_minor": 5
}
