{
 "cells": [
  {
   "cell_type": "markdown",
   "id": "c504d52c",
   "metadata": {},
   "source": [
    "\n",
    "# UNHCR Forcibly Displaced Populations Casptone Project\n",
    "\n",
    "## Random Forest Classifier\n",
    "\n",
    "---\n"
   ]
  },
  {
   "cell_type": "code",
   "execution_count": 1,
   "id": "9007f80d",
   "metadata": {},
   "outputs": [],
   "source": [
    "import pandas as pd\n",
    "import numpy as np\n",
    "import seaborn as sns\n",
    "import matplotlib.pyplot as plt"
   ]
  },
  {
   "cell_type": "code",
   "execution_count": 8,
   "id": "5e67a4db",
   "metadata": {},
   "outputs": [],
   "source": [
    "from sklearn.preprocessing import StandardScaler\n",
    "from sklearn.model_selection import train_test_split, cross_val_score, cross_val_predict, KFold\n",
    "from sklearn.model_selection import GridSearchCV\n",
    "from pactools.grid_search import GridSearchCVProgressBar\n",
    "from sklearn.metrics import  plot_confusion_matrix, plot_roc_curve, plot_precision_recall_curve, roc_auc_score, average_precision_score\n",
    "from sklearn.metrics import confusion_matrix\n",
    "from sklearn.metrics import plot_confusion_matrix\n",
    "from sklearn.preprocessing import label_binarize\n",
    "from sklearn.ensemble import RandomForestClassifier, ExtraTreesClassifier\n",
    "from sklearn.metrics import recall_score, precision_score, f1_score, classification_report\n",
    "from sklearn import preprocessing\n",
    "import scikitplot as skplt\n",
    "import warnings"
   ]
  },
  {
   "cell_type": "code",
   "execution_count": 9,
   "id": "0576aac9",
   "metadata": {},
   "outputs": [],
   "source": [
    "warnings.filterwarnings('ignore')"
   ]
  },
  {
   "cell_type": "code",
   "execution_count": 10,
   "id": "8f34774b",
   "metadata": {},
   "outputs": [
    {
     "data": {
      "text/html": [
       "<div>\n",
       "<style scoped>\n",
       "    .dataframe tbody tr th:only-of-type {\n",
       "        vertical-align: middle;\n",
       "    }\n",
       "\n",
       "    .dataframe tbody tr th {\n",
       "        vertical-align: top;\n",
       "    }\n",
       "\n",
       "    .dataframe thead th {\n",
       "        text-align: right;\n",
       "    }\n",
       "</style>\n",
       "<table border=\"1\" class=\"dataframe\">\n",
       "  <thead>\n",
       "    <tr style=\"text-align: right;\">\n",
       "      <th></th>\n",
       "      <th>Unnamed: 0</th>\n",
       "      <th>country_of_origin</th>\n",
       "      <th>country_of_asylum</th>\n",
       "      <th>population_type</th>\n",
       "      <th>urban_or_rural_location</th>\n",
       "      <th>accommodation_type</th>\n",
       "      <th>female_aged_0-4 years</th>\n",
       "      <th>female_aged_5-11 years</th>\n",
       "      <th>female_aged_12-17 years</th>\n",
       "      <th>female_aged_18-59 years</th>\n",
       "      <th>female_aged_over_60_years</th>\n",
       "      <th>male_aged_0-4_years</th>\n",
       "      <th>male_aged_5-11_years</th>\n",
       "      <th>male_aged_12-17 years</th>\n",
       "      <th>male_aged_18-59_years</th>\n",
       "      <th>male_aged_over_60_years</th>\n",
       "    </tr>\n",
       "  </thead>\n",
       "  <tbody>\n",
       "    <tr>\n",
       "      <th>0</th>\n",
       "      <td>0</td>\n",
       "      <td>Colombia</td>\n",
       "      <td>Aruba</td>\n",
       "      <td>ASY</td>\n",
       "      <td>Urban</td>\n",
       "      <td>I</td>\n",
       "      <td>0</td>\n",
       "      <td>0</td>\n",
       "      <td>0</td>\n",
       "      <td>0</td>\n",
       "      <td>0</td>\n",
       "      <td>0</td>\n",
       "      <td>0</td>\n",
       "      <td>0</td>\n",
       "      <td>5</td>\n",
       "      <td>0</td>\n",
       "    </tr>\n",
       "    <tr>\n",
       "      <th>1</th>\n",
       "      <td>1</td>\n",
       "      <td>Cuba</td>\n",
       "      <td>Aruba</td>\n",
       "      <td>ASY</td>\n",
       "      <td>Urban</td>\n",
       "      <td>I</td>\n",
       "      <td>0</td>\n",
       "      <td>0</td>\n",
       "      <td>0</td>\n",
       "      <td>0</td>\n",
       "      <td>0</td>\n",
       "      <td>0</td>\n",
       "      <td>0</td>\n",
       "      <td>0</td>\n",
       "      <td>0</td>\n",
       "      <td>0</td>\n",
       "    </tr>\n",
       "    <tr>\n",
       "      <th>2</th>\n",
       "      <td>2</td>\n",
       "      <td>Afghanistan</td>\n",
       "      <td>Afghanistan</td>\n",
       "      <td>IDP</td>\n",
       "      <td>Rural</td>\n",
       "      <td>I</td>\n",
       "      <td>0</td>\n",
       "      <td>14</td>\n",
       "      <td>16</td>\n",
       "      <td>37</td>\n",
       "      <td>0</td>\n",
       "      <td>0</td>\n",
       "      <td>15</td>\n",
       "      <td>17</td>\n",
       "      <td>38</td>\n",
       "      <td>5</td>\n",
       "    </tr>\n",
       "    <tr>\n",
       "      <th>3</th>\n",
       "      <td>3</td>\n",
       "      <td>Afghanistan</td>\n",
       "      <td>Afghanistan</td>\n",
       "      <td>IDP</td>\n",
       "      <td>Urban</td>\n",
       "      <td>Q</td>\n",
       "      <td>74</td>\n",
       "      <td>810</td>\n",
       "      <td>853</td>\n",
       "      <td>2004</td>\n",
       "      <td>140</td>\n",
       "      <td>75</td>\n",
       "      <td>840</td>\n",
       "      <td>921</td>\n",
       "      <td>2278</td>\n",
       "      <td>206</td>\n",
       "    </tr>\n",
       "    <tr>\n",
       "      <th>4</th>\n",
       "      <td>4</td>\n",
       "      <td>Afghanistan</td>\n",
       "      <td>Afghanistan</td>\n",
       "      <td>IDP</td>\n",
       "      <td>Urban</td>\n",
       "      <td>Q</td>\n",
       "      <td>12</td>\n",
       "      <td>130</td>\n",
       "      <td>138</td>\n",
       "      <td>321</td>\n",
       "      <td>21</td>\n",
       "      <td>12</td>\n",
       "      <td>135</td>\n",
       "      <td>147</td>\n",
       "      <td>365</td>\n",
       "      <td>33</td>\n",
       "    </tr>\n",
       "  </tbody>\n",
       "</table>\n",
       "</div>"
      ],
      "text/plain": [
       "   Unnamed: 0 country_of_origin country_of_asylum population_type  \\\n",
       "0           0          Colombia             Aruba             ASY   \n",
       "1           1              Cuba             Aruba             ASY   \n",
       "2           2       Afghanistan       Afghanistan             IDP   \n",
       "3           3       Afghanistan       Afghanistan             IDP   \n",
       "4           4       Afghanistan       Afghanistan             IDP   \n",
       "\n",
       "  urban_or_rural_location accommodation_type  female_aged_0-4 years  \\\n",
       "0                   Urban                  I                      0   \n",
       "1                   Urban                  I                      0   \n",
       "2                   Rural                  I                      0   \n",
       "3                   Urban                  Q                     74   \n",
       "4                   Urban                  Q                     12   \n",
       "\n",
       "   female_aged_5-11 years  female_aged_12-17 years  female_aged_18-59 years  \\\n",
       "0                       0                        0                        0   \n",
       "1                       0                        0                        0   \n",
       "2                      14                       16                       37   \n",
       "3                     810                      853                     2004   \n",
       "4                     130                      138                      321   \n",
       "\n",
       "   female_aged_over_60_years  male_aged_0-4_years  male_aged_5-11_years  \\\n",
       "0                          0                    0                     0   \n",
       "1                          0                    0                     0   \n",
       "2                          0                    0                    15   \n",
       "3                        140                   75                   840   \n",
       "4                         21                   12                   135   \n",
       "\n",
       "   male_aged_12-17 years  male_aged_18-59_years  male_aged_over_60_years  \n",
       "0                      0                      5                        0  \n",
       "1                      0                      0                        0  \n",
       "2                     17                     38                        5  \n",
       "3                    921                   2278                      206  \n",
       "4                    147                    365                       33  "
      ]
     },
     "execution_count": 10,
     "metadata": {},
     "output_type": "execute_result"
    }
   ],
   "source": [
    "df = pd.read_csv('/Users/dayosangowawa/Desktop/GA/DSI20-lessons/projects/project-capstone/My Capstone/Forcibly displaced persons - Capstone Dayo Sangowawa/cleaned_unhcrdf_final.csv')\n",
    "df.head()"
   ]
  },
  {
   "cell_type": "code",
   "execution_count": 11,
   "id": "abdbf1d1",
   "metadata": {},
   "outputs": [],
   "source": [
    "df.drop(columns = ['Unnamed: 0'], inplace=True)"
   ]
  },
  {
   "cell_type": "code",
   "execution_count": 12,
   "id": "16289497",
   "metadata": {},
   "outputs": [],
   "source": [
    "y = df.pop('accommodation_type')\n",
    "X = pd.get_dummies(df, drop_first=True)"
   ]
  },
  {
   "cell_type": "code",
   "execution_count": 13,
   "id": "53e22e1b",
   "metadata": {},
   "outputs": [
    {
     "name": "stdout",
     "output_type": "stream",
     "text": [
      "Baseline prediction:  0.8497186815375424\n"
     ]
    }
   ],
   "source": [
    "print('Baseline prediction: ', y.value_counts(normalize=True).max())"
   ]
  },
  {
   "cell_type": "code",
   "execution_count": 14,
   "id": "0a67e791",
   "metadata": {},
   "outputs": [],
   "source": [
    "lb = preprocessing.LabelBinarizer()"
   ]
  },
  {
   "cell_type": "code",
   "execution_count": 15,
   "id": "e2bbeb2c",
   "metadata": {},
   "outputs": [],
   "source": [
    "y = lb.fit_transform(y)\n",
    "\n",
    "#'0 'if it is 'I 'and '1' if it is 'other'. "
   ]
  },
  {
   "cell_type": "code",
   "execution_count": 16,
   "id": "d5638c8e",
   "metadata": {},
   "outputs": [],
   "source": [
    "y = y.ravel()"
   ]
  },
  {
   "cell_type": "code",
   "execution_count": 17,
   "id": "927f8cb9",
   "metadata": {},
   "outputs": [],
   "source": [
    "X_train, X_test, y_train, y_test = train_test_split(\n",
    "    X, y, stratify=y, test_size=0.2, random_state=1)"
   ]
  },
  {
   "cell_type": "code",
   "execution_count": 18,
   "id": "103ab948",
   "metadata": {},
   "outputs": [],
   "source": [
    "rfc = RandomForestClassifier()"
   ]
  },
  {
   "cell_type": "markdown",
   "id": "ba03ad46",
   "metadata": {},
   "source": [
    "### GridSearch"
   ]
  },
  {
   "cell_type": "code",
   "execution_count": 19,
   "id": "2e9e4a96",
   "metadata": {},
   "outputs": [],
   "source": [
    "param_grid = {\n",
    "    'max_features': ['auto', 'sqrt', 'log2'],\n",
    "    'max_depth' : [X.shape[1] + 1],\n",
    "    'criterion' :['gini', 'entropy']\n",
    "}"
   ]
  },
  {
   "cell_type": "code",
   "execution_count": 20,
   "id": "bff5fdc5",
   "metadata": {},
   "outputs": [],
   "source": [
    "rfc_gs = GridSearchCV(estimator=rfc, param_grid=param_grid, cv=5)"
   ]
  },
  {
   "cell_type": "code",
   "execution_count": 21,
   "id": "b8e73626",
   "metadata": {},
   "outputs": [
    {
     "data": {
      "text/plain": [
       "GridSearchCV(cv=5, estimator=RandomForestClassifier(),\n",
       "             param_grid={'criterion': ['gini', 'entropy'], 'max_depth': [385],\n",
       "                         'max_features': ['auto', 'sqrt', 'log2']})"
      ]
     },
     "execution_count": 21,
     "metadata": {},
     "output_type": "execute_result"
    }
   ],
   "source": [
    "rfc_gs.fit(X_train, y_train)"
   ]
  },
  {
   "cell_type": "code",
   "execution_count": 22,
   "id": "2093528a",
   "metadata": {},
   "outputs": [
    {
     "data": {
      "text/plain": [
       "{'criterion': 'entropy', 'max_depth': 385, 'max_features': 'sqrt'}"
      ]
     },
     "execution_count": 22,
     "metadata": {},
     "output_type": "execute_result"
    }
   ],
   "source": [
    "rfc_gs.best_params_"
   ]
  },
  {
   "cell_type": "markdown",
   "id": "92761456",
   "metadata": {},
   "source": [
    "### Using the best parameters from the Grid Search "
   ]
  },
  {
   "cell_type": "code",
   "execution_count": 23,
   "id": "811b8803",
   "metadata": {},
   "outputs": [],
   "source": [
    "rfc_best = RandomForestClassifier(criterion = 'entropy',\n",
    "                                         max_depth=385,\n",
    "                                         max_features='sqrt')"
   ]
  },
  {
   "cell_type": "code",
   "execution_count": 24,
   "id": "f7516ced",
   "metadata": {},
   "outputs": [
    {
     "data": {
      "text/plain": [
       "RandomForestClassifier(criterion='entropy', max_depth=385, max_features='sqrt')"
      ]
     },
     "execution_count": 24,
     "metadata": {},
     "output_type": "execute_result"
    }
   ],
   "source": [
    "rfc_best.fit(X_train, y_train)"
   ]
  },
  {
   "cell_type": "code",
   "execution_count": 25,
   "id": "4682e877",
   "metadata": {},
   "outputs": [
    {
     "name": "stdout",
     "output_type": "stream",
     "text": [
      "Accuracy score - train set: 0.9871631293956556\n",
      "Accuracy score - test set: 0.9564973861090366\n",
      "Mean CV score - train:  0.9550320241580806\n"
     ]
    }
   ],
   "source": [
    "print('Accuracy score - train set:', rfc_best.score(X_train, y_train))\n",
    "print('Accuracy score - test set:', rfc_best.score(X_test, y_test))\n",
    "print('Mean CV score - train: ', cross_val_score(rfc_best, X_train, y_train, cv=5).mean())"
   ]
  },
  {
   "cell_type": "markdown",
   "id": "89bdfb8b",
   "metadata": {},
   "source": [
    "### Feature Importances"
   ]
  },
  {
   "cell_type": "code",
   "execution_count": 40,
   "id": "ecc0faf5",
   "metadata": {},
   "outputs": [
    {
     "data": {
      "text/html": [
       "<div>\n",
       "<style scoped>\n",
       "    .dataframe tbody tr th:only-of-type {\n",
       "        vertical-align: middle;\n",
       "    }\n",
       "\n",
       "    .dataframe tbody tr th {\n",
       "        vertical-align: top;\n",
       "    }\n",
       "\n",
       "    .dataframe thead th {\n",
       "        text-align: right;\n",
       "    }\n",
       "</style>\n",
       "<table border=\"1\" class=\"dataframe\">\n",
       "  <thead>\n",
       "    <tr style=\"text-align: right;\">\n",
       "      <th></th>\n",
       "      <th>Feature</th>\n",
       "      <th>Importance</th>\n",
       "    </tr>\n",
       "  </thead>\n",
       "  <tbody>\n",
       "    <tr>\n",
       "      <th>383</th>\n",
       "      <td>urban_or_rural_location_Urban</td>\n",
       "      <td>0.221522</td>\n",
       "    </tr>\n",
       "    <tr>\n",
       "      <th>8</th>\n",
       "      <td>male_aged_18-59_years</td>\n",
       "      <td>0.042480</td>\n",
       "    </tr>\n",
       "    <tr>\n",
       "      <th>3</th>\n",
       "      <td>female_aged_18-59 years</td>\n",
       "      <td>0.032160</td>\n",
       "    </tr>\n",
       "    <tr>\n",
       "      <th>234</th>\n",
       "      <td>country_of_asylum_Bulgaria</td>\n",
       "      <td>0.029610</td>\n",
       "    </tr>\n",
       "    <tr>\n",
       "      <th>1</th>\n",
       "      <td>female_aged_5-11 years</td>\n",
       "      <td>0.027644</td>\n",
       "    </tr>\n",
       "    <tr>\n",
       "      <th>7</th>\n",
       "      <td>male_aged_12-17 years</td>\n",
       "      <td>0.025900</td>\n",
       "    </tr>\n",
       "    <tr>\n",
       "      <th>381</th>\n",
       "      <td>population_type_REF</td>\n",
       "      <td>0.025236</td>\n",
       "    </tr>\n",
       "    <tr>\n",
       "      <th>2</th>\n",
       "      <td>female_aged_12-17 years</td>\n",
       "      <td>0.024378</td>\n",
       "    </tr>\n",
       "    <tr>\n",
       "      <th>277</th>\n",
       "      <td>country_of_asylum_Hungary</td>\n",
       "      <td>0.023936</td>\n",
       "    </tr>\n",
       "    <tr>\n",
       "      <th>6</th>\n",
       "      <td>male_aged_5-11_years</td>\n",
       "      <td>0.023899</td>\n",
       "    </tr>\n",
       "    <tr>\n",
       "      <th>0</th>\n",
       "      <td>female_aged_0-4 years</td>\n",
       "      <td>0.022499</td>\n",
       "    </tr>\n",
       "    <tr>\n",
       "      <th>5</th>\n",
       "      <td>male_aged_0-4_years</td>\n",
       "      <td>0.021628</td>\n",
       "    </tr>\n",
       "    <tr>\n",
       "      <th>280</th>\n",
       "      <td>country_of_asylum_Indonesia</td>\n",
       "      <td>0.021254</td>\n",
       "    </tr>\n",
       "    <tr>\n",
       "      <th>250</th>\n",
       "      <td>country_of_asylum_Croatia</td>\n",
       "      <td>0.019896</td>\n",
       "    </tr>\n",
       "    <tr>\n",
       "      <th>363</th>\n",
       "      <td>country_of_asylum_Turkey</td>\n",
       "      <td>0.019540</td>\n",
       "    </tr>\n",
       "    <tr>\n",
       "      <th>347</th>\n",
       "      <td>country_of_asylum_Slovenia</td>\n",
       "      <td>0.015393</td>\n",
       "    </tr>\n",
       "    <tr>\n",
       "      <th>9</th>\n",
       "      <td>male_aged_over_60_years</td>\n",
       "      <td>0.014583</td>\n",
       "    </tr>\n",
       "    <tr>\n",
       "      <th>342</th>\n",
       "      <td>country_of_asylum_Serbia</td>\n",
       "      <td>0.013760</td>\n",
       "    </tr>\n",
       "    <tr>\n",
       "      <th>354</th>\n",
       "      <td>country_of_asylum_Sudan</td>\n",
       "      <td>0.013386</td>\n",
       "    </tr>\n",
       "    <tr>\n",
       "      <th>4</th>\n",
       "      <td>female_aged_over_60_years</td>\n",
       "      <td>0.012553</td>\n",
       "    </tr>\n",
       "  </tbody>\n",
       "</table>\n",
       "</div>"
      ],
      "text/plain": [
       "                           Feature  Importance\n",
       "383  urban_or_rural_location_Urban    0.221522\n",
       "8            male_aged_18-59_years    0.042480\n",
       "3          female_aged_18-59 years    0.032160\n",
       "234     country_of_asylum_Bulgaria    0.029610\n",
       "1           female_aged_5-11 years    0.027644\n",
       "7            male_aged_12-17 years    0.025900\n",
       "381            population_type_REF    0.025236\n",
       "2          female_aged_12-17 years    0.024378\n",
       "277      country_of_asylum_Hungary    0.023936\n",
       "6             male_aged_5-11_years    0.023899\n",
       "0            female_aged_0-4 years    0.022499\n",
       "5              male_aged_0-4_years    0.021628\n",
       "280    country_of_asylum_Indonesia    0.021254\n",
       "250      country_of_asylum_Croatia    0.019896\n",
       "363       country_of_asylum_Turkey    0.019540\n",
       "347     country_of_asylum_Slovenia    0.015393\n",
       "9          male_aged_over_60_years    0.014583\n",
       "342       country_of_asylum_Serbia    0.013760\n",
       "354        country_of_asylum_Sudan    0.013386\n",
       "4        female_aged_over_60_years    0.012553"
      ]
     },
     "execution_count": 40,
     "metadata": {},
     "output_type": "execute_result"
    }
   ],
   "source": [
    "feat_import = pd.DataFrame({\n",
    "    'Feature': X_train.columns,\n",
    "    'Importance': rfc_best.feature_importances_\n",
    "})\n",
    "\n",
    "feat_import.sort_values('Importance', ascending=False, inplace=True)\n",
    "feat_import.head(20)"
   ]
  },
  {
   "cell_type": "code",
   "execution_count": 41,
   "id": "64946f87",
   "metadata": {},
   "outputs": [],
   "source": [
    "feat_import.reset_index(inplace=True)"
   ]
  },
  {
   "cell_type": "code",
   "execution_count": 42,
   "id": "50cd9c25",
   "metadata": {},
   "outputs": [],
   "source": [
    "feat_import.drop(columns=['index'] ,inplace=True)"
   ]
  },
  {
   "cell_type": "code",
   "execution_count": 43,
   "id": "3017d1ae",
   "metadata": {},
   "outputs": [
    {
     "data": {
      "image/png": "[encoded data removed]",
      "text/plain": [
       "<Figure size 576x864 with 1 Axes>"
      ]
     },
     "metadata": {
      "needs_background": "light"
     },
     "output_type": "display_data"
    }
   ],
   "source": [
    "feat_import.nlargest(20, columns=['Importance']).plot(kind='barh', x='Feature', y='Importance', figsize=(8, 12), color='#FC5A50')\n",
    "plt.xlabel('Importance', fontsize=13)\n",
    "plt.ylabel('Feature', fontsize=13)\n",
    "plt.title('Features positively correlated with indivdual accommodation allocation', fontsize=18, pad=20)\n",
    "plt.grid()\n",
    "plt.savefig('topfeatures_randomforest.png', dpi=300, bbox_inches = \"tight\")\n",
    "plt.show();"
   ]
  },
  {
   "cell_type": "markdown",
   "id": "9d6b15c5",
   "metadata": {},
   "source": [
    "As seen in the dataframe below, there are 29 features that do not have any affect on the target variable (feature importance of 0). These features could have been removed at the prior to the modelling process.\n",
    "\n",
    "The bar chart belows shows the features that are most negatively correlated with the target variable (the likelihood of being allocated individual accommodation)."
   ]
  },
  {
   "cell_type": "code",
   "execution_count": 79,
   "id": "3d31ff01",
   "metadata": {
    "scrolled": true
   },
   "outputs": [
    {
     "data": {
      "text/html": [
       "<div>\n",
       "<style scoped>\n",
       "    .dataframe tbody tr th:only-of-type {\n",
       "        vertical-align: middle;\n",
       "    }\n",
       "\n",
       "    .dataframe tbody tr th {\n",
       "        vertical-align: top;\n",
       "    }\n",
       "\n",
       "    .dataframe thead th {\n",
       "        text-align: right;\n",
       "    }\n",
       "</style>\n",
       "<table border=\"1\" class=\"dataframe\">\n",
       "  <thead>\n",
       "    <tr style=\"text-align: right;\">\n",
       "      <th></th>\n",
       "      <th>Feature</th>\n",
       "      <th>Importance</th>\n",
       "    </tr>\n",
       "  </thead>\n",
       "  <tbody>\n",
       "    <tr>\n",
       "      <th>186</th>\n",
       "      <td>country_of_origin_Switzerland</td>\n",
       "      <td>0.000000e+00</td>\n",
       "    </tr>\n",
       "    <tr>\n",
       "      <th>164</th>\n",
       "      <td>country_of_origin_San Marino</td>\n",
       "      <td>0.000000e+00</td>\n",
       "    </tr>\n",
       "    <tr>\n",
       "      <th>161</th>\n",
       "      <td>country_of_origin_Saint Martin France</td>\n",
       "      <td>0.000000e+00</td>\n",
       "    </tr>\n",
       "    <tr>\n",
       "      <th>38</th>\n",
       "      <td>country_of_origin_Cabo Verde</td>\n",
       "      <td>0.000000e+00</td>\n",
       "    </tr>\n",
       "    <tr>\n",
       "      <th>153</th>\n",
       "      <td>country_of_origin_Puerto Rico</td>\n",
       "      <td>0.000000e+00</td>\n",
       "    </tr>\n",
       "    <tr>\n",
       "      <th>42</th>\n",
       "      <td>country_of_origin_Cayman Islands</td>\n",
       "      <td>0.000000e+00</td>\n",
       "    </tr>\n",
       "    <tr>\n",
       "      <th>145</th>\n",
       "      <td>country_of_origin_Palau</td>\n",
       "      <td>0.000000e+00</td>\n",
       "    </tr>\n",
       "    <tr>\n",
       "      <th>139</th>\n",
       "      <td>country_of_origin_Niue</td>\n",
       "      <td>0.000000e+00</td>\n",
       "    </tr>\n",
       "    <tr>\n",
       "      <th>134</th>\n",
       "      <td>country_of_origin_Netherlands</td>\n",
       "      <td>0.000000e+00</td>\n",
       "    </tr>\n",
       "    <tr>\n",
       "      <th>48</th>\n",
       "      <td>country_of_origin_China, Macao Special Adminis...</td>\n",
       "      <td>0.000000e+00</td>\n",
       "    </tr>\n",
       "    <tr>\n",
       "      <th>120</th>\n",
       "      <td>country_of_origin_Malta</td>\n",
       "      <td>0.000000e+00</td>\n",
       "    </tr>\n",
       "    <tr>\n",
       "      <th>105</th>\n",
       "      <td>country_of_origin_Kiribati</td>\n",
       "      <td>0.000000e+00</td>\n",
       "    </tr>\n",
       "    <tr>\n",
       "      <th>91</th>\n",
       "      <td>country_of_origin_Iceland</td>\n",
       "      <td>0.000000e+00</td>\n",
       "    </tr>\n",
       "    <tr>\n",
       "      <th>55</th>\n",
       "      <td>country_of_origin_Cyprus</td>\n",
       "      <td>0.000000e+00</td>\n",
       "    </tr>\n",
       "    <tr>\n",
       "      <th>83</th>\n",
       "      <td>country_of_origin_Guam</td>\n",
       "      <td>0.000000e+00</td>\n",
       "    </tr>\n",
       "    <tr>\n",
       "      <th>82</th>\n",
       "      <td>country_of_origin_Guadeloupe</td>\n",
       "      <td>0.000000e+00</td>\n",
       "    </tr>\n",
       "    <tr>\n",
       "      <th>59</th>\n",
       "      <td>country_of_origin_Denmark</td>\n",
       "      <td>0.000000e+00</td>\n",
       "    </tr>\n",
       "    <tr>\n",
       "      <th>81</th>\n",
       "      <td>country_of_origin_Grenada</td>\n",
       "      <td>0.000000e+00</td>\n",
       "    </tr>\n",
       "    <tr>\n",
       "      <th>172</th>\n",
       "      <td>country_of_origin_Sint Maarten Dutch</td>\n",
       "      <td>0.000000e+00</td>\n",
       "    </tr>\n",
       "    <tr>\n",
       "      <th>192</th>\n",
       "      <td>country_of_origin_Tonga</td>\n",
       "      <td>0.000000e+00</td>\n",
       "    </tr>\n",
       "    <tr>\n",
       "      <th>162</th>\n",
       "      <td>country_of_origin_Saint Pierre and Miquelon</td>\n",
       "      <td>0.000000e+00</td>\n",
       "    </tr>\n",
       "    <tr>\n",
       "      <th>12</th>\n",
       "      <td>country_of_origin_Andorra</td>\n",
       "      <td>0.000000e+00</td>\n",
       "    </tr>\n",
       "    <tr>\n",
       "      <th>14</th>\n",
       "      <td>country_of_origin_Anguilla</td>\n",
       "      <td>0.000000e+00</td>\n",
       "    </tr>\n",
       "    <tr>\n",
       "      <th>15</th>\n",
       "      <td>country_of_origin_Antigua and Barbuda</td>\n",
       "      <td>0.000000e+00</td>\n",
       "    </tr>\n",
       "    <tr>\n",
       "      <th>374</th>\n",
       "      <td>country_of_asylum_Vietnam</td>\n",
       "      <td>0.000000e+00</td>\n",
       "    </tr>\n",
       "    <tr>\n",
       "      <th>294</th>\n",
       "      <td>country_of_asylum_Laos</td>\n",
       "      <td>0.000000e+00</td>\n",
       "    </tr>\n",
       "    <tr>\n",
       "      <th>197</th>\n",
       "      <td>country_of_origin_Turks and Caicos Islands</td>\n",
       "      <td>0.000000e+00</td>\n",
       "    </tr>\n",
       "    <tr>\n",
       "      <th>313</th>\n",
       "      <td>country_of_asylum_Montserrat</td>\n",
       "      <td>0.000000e+00</td>\n",
       "    </tr>\n",
       "    <tr>\n",
       "      <th>207</th>\n",
       "      <td>country_of_origin_Vanuatu</td>\n",
       "      <td>0.000000e+00</td>\n",
       "    </tr>\n",
       "    <tr>\n",
       "      <th>34</th>\n",
       "      <td>country_of_origin_Brunei Darussalam</td>\n",
       "      <td>6.375816e-09</td>\n",
       "    </tr>\n",
       "  </tbody>\n",
       "</table>\n",
       "</div>"
      ],
      "text/plain": [
       "                                               Feature    Importance\n",
       "186                      country_of_origin_Switzerland  0.000000e+00\n",
       "164                       country_of_origin_San Marino  0.000000e+00\n",
       "161              country_of_origin_Saint Martin France  0.000000e+00\n",
       "38                        country_of_origin_Cabo Verde  0.000000e+00\n",
       "153                      country_of_origin_Puerto Rico  0.000000e+00\n",
       "42                    country_of_origin_Cayman Islands  0.000000e+00\n",
       "145                            country_of_origin_Palau  0.000000e+00\n",
       "139                             country_of_origin_Niue  0.000000e+00\n",
       "134                      country_of_origin_Netherlands  0.000000e+00\n",
       "48   country_of_origin_China, Macao Special Adminis...  0.000000e+00\n",
       "120                            country_of_origin_Malta  0.000000e+00\n",
       "105                         country_of_origin_Kiribati  0.000000e+00\n",
       "91                           country_of_origin_Iceland  0.000000e+00\n",
       "55                            country_of_origin_Cyprus  0.000000e+00\n",
       "83                              country_of_origin_Guam  0.000000e+00\n",
       "82                        country_of_origin_Guadeloupe  0.000000e+00\n",
       "59                           country_of_origin_Denmark  0.000000e+00\n",
       "81                           country_of_origin_Grenada  0.000000e+00\n",
       "172               country_of_origin_Sint Maarten Dutch  0.000000e+00\n",
       "192                            country_of_origin_Tonga  0.000000e+00\n",
       "162        country_of_origin_Saint Pierre and Miquelon  0.000000e+00\n",
       "12                           country_of_origin_Andorra  0.000000e+00\n",
       "14                          country_of_origin_Anguilla  0.000000e+00\n",
       "15               country_of_origin_Antigua and Barbuda  0.000000e+00\n",
       "374                          country_of_asylum_Vietnam  0.000000e+00\n",
       "294                             country_of_asylum_Laos  0.000000e+00\n",
       "197         country_of_origin_Turks and Caicos Islands  0.000000e+00\n",
       "313                       country_of_asylum_Montserrat  0.000000e+00\n",
       "207                          country_of_origin_Vanuatu  0.000000e+00\n",
       "34                 country_of_origin_Brunei Darussalam  6.375816e-09"
      ]
     },
     "execution_count": 79,
     "metadata": {},
     "output_type": "execute_result"
    }
   ],
   "source": [
    "feat_import_neg = pd.DataFrame({\n",
    "    'Feature': X_train.columns,\n",
    "    'Importance': rfc_best.feature_importances_\n",
    "})\n",
    "\n",
    "feat_import_neg.sort_values('Importance', ascending=True, inplace=True)\n",
    "feat_import_neg.head(30)"
   ]
  },
  {
   "cell_type": "code",
   "execution_count": 73,
   "id": "000aca29",
   "metadata": {},
   "outputs": [],
   "source": [
    "neg_corr_features = feat_import_neg[feat_import_neg['Importance'] > 0].sort_values(by = 'Importance', ascending=True)"
   ]
  },
  {
   "cell_type": "code",
   "execution_count": 80,
   "id": "cf72b8fc",
   "metadata": {},
   "outputs": [
    {
     "data": {
      "image/png": "[encoded data removed]",
      "text/plain": [
       "<Figure size 576x864 with 1 Axes>"
      ]
     },
     "metadata": {
      "needs_background": "light"
     },
     "output_type": "display_data"
    }
   ],
   "source": [
    "neg_corr_features.head(20).plot(kind='barh', x='Feature', y='Importance', figsize=(8, 12), color='#FC5A50')\n",
    "plt.xlabel('Importance', fontsize=13)\n",
    "plt.ylabel('Feature', fontsize=13)\n",
    "plt.title('Features negatively correlated with indivdual accommodation allocation', fontsize=18, pad=20)\n",
    "plt.grid()\n",
    "plt.savefig('top_neg_features_randomforest.png', dpi=300, bbox_inches = \"tight\")\n",
    "plt.show();"
   ]
  },
  {
   "cell_type": "markdown",
   "id": "95507500",
   "metadata": {},
   "source": [
    "### Evaluation"
   ]
  },
  {
   "cell_type": "code",
   "execution_count": 31,
   "id": "6b9703e7",
   "metadata": {},
   "outputs": [],
   "source": [
    "y_test_pred = rfc_best.predict(X_test)"
   ]
  },
  {
   "cell_type": "code",
   "execution_count": 32,
   "id": "2d030df2",
   "metadata": {},
   "outputs": [
    {
     "data": {
      "image/png": "[encoded data removed]",
      "text/plain": [
       "<Figure size 432x288 with 2 Axes>"
      ]
     },
     "metadata": {
      "needs_background": "light"
     },
     "output_type": "display_data"
    }
   ],
   "source": [
    "confus_matrix = plot_confusion_matrix(rfc_best, X_test, y_test, cmap='Blues', labels=[1, 0], values_format='.0f')\n",
    "plt.savefig('rfc_confusion_matrix.png', dpi=300, bbox_inches = \"tight\")\n",
    "plt.show()"
   ]
  },
  {
   "cell_type": "code",
   "execution_count": 33,
   "id": "6de216a2",
   "metadata": {},
   "outputs": [
    {
     "name": "stdout",
     "output_type": "stream",
     "text": [
      "              precision    recall  f1-score   support\n",
      "\n",
      "           0       0.97      0.98      0.97     13653\n",
      "           1       0.88      0.83      0.85      2415\n",
      "\n",
      "    accuracy                           0.96     16068\n",
      "   macro avg       0.92      0.90      0.91     16068\n",
      "weighted avg       0.96      0.96      0.96     16068\n",
      "\n"
     ]
    }
   ],
   "source": [
    "print(classification_report(y_test, y_test_pred))"
   ]
  },
  {
   "cell_type": "code",
   "execution_count": 34,
   "id": "a033b6c1",
   "metadata": {},
   "outputs": [],
   "source": [
    "probabilities_train = rfc_best.predict_proba(X_train)"
   ]
  },
  {
   "cell_type": "code",
   "execution_count": 35,
   "id": "a9b39ad2",
   "metadata": {},
   "outputs": [],
   "source": [
    "from matplotlib.colors import ListedColormap\n",
    "cmap = ListedColormap(sns.color_palette(\"husl\", len(rfc_best.classes_)))"
   ]
  },
  {
   "cell_type": "code",
   "execution_count": 36,
   "id": "d683b7dd",
   "metadata": {},
   "outputs": [
    {
     "data": {
      "image/png": "[encoded data removed]",
      "text/plain": [
       "<Figure size 432x288 with 1 Axes>"
      ]
     },
     "metadata": {
      "needs_background": "light"
     },
     "output_type": "display_data"
    }
   ],
   "source": [
    "skplt.metrics.plot_precision_recall(y_train, probabilities_train, cmap=cmap)\n",
    "plt.show()"
   ]
  },
  {
   "cell_type": "code",
   "execution_count": 37,
   "id": "d66fbeb9",
   "metadata": {
    "scrolled": true
   },
   "outputs": [
    {
     "name": "stdout",
     "output_type": "stream",
     "text": [
      "Average precision score:  0.9931709428679888\n"
     ]
    }
   ],
   "source": [
    "print('Average precision score: ', average_precision_score(y_train, probabilities_train[:, 1]))\n"
   ]
  },
  {
   "cell_type": "code",
   "execution_count": 38,
   "id": "47983a1d",
   "metadata": {},
   "outputs": [
    {
     "data": {
      "image/png": "[encoded data removed]",
      "text/plain": [
       "<Figure size 432x288 with 1 Axes>"
      ]
     },
     "metadata": {
      "needs_background": "light"
     },
     "output_type": "display_data"
    }
   ],
   "source": [
    "skplt.metrics.plot_roc(y_train, probabilities_train, cmap=cmap)\n",
    "plt.savefig('rfc_roc_curve.png', dpi=300, bbox_inches = \"tight\")\n",
    "plt.show()"
   ]
  },
  {
   "cell_type": "code",
   "execution_count": 39,
   "id": "4bb151da",
   "metadata": {},
   "outputs": [
    {
     "name": "stdout",
     "output_type": "stream",
     "text": [
      "Area under the curve :  0.9986798139286128\n"
     ]
    }
   ],
   "source": [
    "print('Area under the curve : ', roc_auc_score(y_train, probabilities_train[:, 1]))"
   ]
  },
  {
   "cell_type": "code",
   "execution_count": null,
   "id": "bd9a80c3",
   "metadata": {},
   "outputs": [],
   "source": [
    "#scores indicate possible data leakage (both accuracy and precision scores). I could possibly apply PCA to reduce noise?"
   ]
  },
  {
   "cell_type": "code",
   "execution_count": null,
   "id": "056e45d9",
   "metadata": {},
   "outputs": [],
   "source": []
  }
 ],
 "metadata": {
  "kernelspec": {
   "display_name": "Python 3",
   "language": "python",
   "name": "python3"
  },
  "language_info": {
   "codemirror_mode": {
    "name": "ipython",
    "version": 3
   },
   "file_extension": ".py",
   "mimetype": "text/x-python",
   "name": "python",
   "nbconvert_exporter": "python",
   "pygments_lexer": "ipython3",
   "version": "3.8.8"
  }
 },
 "nbformat": 4,
 "nbformat_minor": 5
}
