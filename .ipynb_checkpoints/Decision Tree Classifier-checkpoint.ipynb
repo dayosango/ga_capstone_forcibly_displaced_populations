{
 "cells": [
  {
   "cell_type": "code",
   "execution_count": 174,
   "id": "a6e2f3f3",
   "metadata": {},
   "outputs": [],
   "source": [
    "import pandas as pd\n",
    "import numpy as np\n",
    "from pprint import pprint\n",
    "import requests\n",
    "import re\n",
    "import seaborn as sns\n",
    "import matplotlib.pyplot as plt"
   ]
  },
  {
   "cell_type": "code",
   "execution_count": 175,
   "id": "e1c8eaaa",
   "metadata": {},
   "outputs": [],
   "source": [
    "from sklearn.linear_model import LinearRegression, Lasso, Ridge\n",
    "from sklearn.preprocessing import StandardScaler, PolynomialFeatures\n",
    "from sklearn.model_selection import train_test_split, cross_val_score, cross_val_predict, KFold\n",
    "from sklearn.linear_model import LogisticRegression, LogisticRegressionCV\n",
    "from sklearn.model_selection import GridSearchCV\n",
    "from pactools.grid_search import GridSearchCVProgressBar\n",
    "from sklearn.metrics import  plot_confusion_matrix, plot_roc_curve, plot_precision_recall_curve, roc_auc_score, average_precision_score\n",
    "from sklearn.preprocessing import label_binarize\n",
    "import imblearn\n",
    "from collections import Counter\n",
    "from sklearn.datasets import make_classification\n",
    "from imblearn.over_sampling import SMOTE \n",
    "from sklearn.neighbors import KNeighborsClassifier\n",
    "from sklearn.tree import DecisionTreeClassifier\n",
    "from sklearn.svm import SVC\n",
    "from sklearn.ensemble import RandomForestClassifier, ExtraTreesClassifier\n",
    "from sklearn.metrics import recall_score, precision_score, f1_score, classification_report\n",
    "from sklearn import preprocessing\n",
    "import scikitplot as skplt\n",
    "import warnings"
   ]
  },
  {
   "cell_type": "code",
   "execution_count": 176,
   "id": "e8bcbc28",
   "metadata": {},
   "outputs": [],
   "source": [
    "warnings.filterwarnings('ignore')"
   ]
  },
  {
   "cell_type": "code",
   "execution_count": 177,
   "id": "cccf484c",
   "metadata": {},
   "outputs": [],
   "source": [
    "import os\n",
    "os.environ[\"PATH\"] += os.pathsep + '~/opt/anaconda3/lib/python3.8/site-packages/graphviz/'"
   ]
  },
  {
   "cell_type": "code",
   "execution_count": 178,
   "id": "d4cdecdf",
   "metadata": {},
   "outputs": [
    {
     "data": {
      "text/html": [
       "<div>\n",
       "<style scoped>\n",
       "    .dataframe tbody tr th:only-of-type {\n",
       "        vertical-align: middle;\n",
       "    }\n",
       "\n",
       "    .dataframe tbody tr th {\n",
       "        vertical-align: top;\n",
       "    }\n",
       "\n",
       "    .dataframe thead th {\n",
       "        text-align: right;\n",
       "    }\n",
       "</style>\n",
       "<table border=\"1\" class=\"dataframe\">\n",
       "  <thead>\n",
       "    <tr style=\"text-align: right;\">\n",
       "      <th></th>\n",
       "      <th>Unnamed: 0</th>\n",
       "      <th>country_of_origin</th>\n",
       "      <th>country_of_asylum</th>\n",
       "      <th>population_type</th>\n",
       "      <th>urban_or_rural_location</th>\n",
       "      <th>accommodation_type</th>\n",
       "      <th>female_aged_0-4 years</th>\n",
       "      <th>female_aged_5-11 years</th>\n",
       "      <th>female_aged_12-17 years</th>\n",
       "      <th>female_aged_18-59 years</th>\n",
       "      <th>female_aged_over_60_years</th>\n",
       "      <th>male_aged_0-4_years</th>\n",
       "      <th>male_aged_5-11_years</th>\n",
       "      <th>male_aged_12-17 years</th>\n",
       "      <th>male_aged_18-59_years</th>\n",
       "      <th>male_aged_over_60_years</th>\n",
       "    </tr>\n",
       "  </thead>\n",
       "  <tbody>\n",
       "    <tr>\n",
       "      <th>0</th>\n",
       "      <td>0</td>\n",
       "      <td>Colombia</td>\n",
       "      <td>Aruba</td>\n",
       "      <td>ASY</td>\n",
       "      <td>Urban</td>\n",
       "      <td>I</td>\n",
       "      <td>0</td>\n",
       "      <td>0</td>\n",
       "      <td>0</td>\n",
       "      <td>0</td>\n",
       "      <td>0</td>\n",
       "      <td>0</td>\n",
       "      <td>0</td>\n",
       "      <td>0</td>\n",
       "      <td>5</td>\n",
       "      <td>0</td>\n",
       "    </tr>\n",
       "    <tr>\n",
       "      <th>1</th>\n",
       "      <td>1</td>\n",
       "      <td>Cuba</td>\n",
       "      <td>Aruba</td>\n",
       "      <td>ASY</td>\n",
       "      <td>Urban</td>\n",
       "      <td>I</td>\n",
       "      <td>0</td>\n",
       "      <td>0</td>\n",
       "      <td>0</td>\n",
       "      <td>0</td>\n",
       "      <td>0</td>\n",
       "      <td>0</td>\n",
       "      <td>0</td>\n",
       "      <td>0</td>\n",
       "      <td>0</td>\n",
       "      <td>0</td>\n",
       "    </tr>\n",
       "    <tr>\n",
       "      <th>2</th>\n",
       "      <td>2</td>\n",
       "      <td>Afghanistan</td>\n",
       "      <td>Afghanistan</td>\n",
       "      <td>IDP</td>\n",
       "      <td>Rural</td>\n",
       "      <td>I</td>\n",
       "      <td>0</td>\n",
       "      <td>14</td>\n",
       "      <td>16</td>\n",
       "      <td>37</td>\n",
       "      <td>0</td>\n",
       "      <td>0</td>\n",
       "      <td>15</td>\n",
       "      <td>17</td>\n",
       "      <td>38</td>\n",
       "      <td>5</td>\n",
       "    </tr>\n",
       "    <tr>\n",
       "      <th>3</th>\n",
       "      <td>3</td>\n",
       "      <td>Afghanistan</td>\n",
       "      <td>Afghanistan</td>\n",
       "      <td>IDP</td>\n",
       "      <td>Urban</td>\n",
       "      <td>Q</td>\n",
       "      <td>74</td>\n",
       "      <td>810</td>\n",
       "      <td>853</td>\n",
       "      <td>2004</td>\n",
       "      <td>140</td>\n",
       "      <td>75</td>\n",
       "      <td>840</td>\n",
       "      <td>921</td>\n",
       "      <td>2278</td>\n",
       "      <td>206</td>\n",
       "    </tr>\n",
       "    <tr>\n",
       "      <th>4</th>\n",
       "      <td>4</td>\n",
       "      <td>Afghanistan</td>\n",
       "      <td>Afghanistan</td>\n",
       "      <td>IDP</td>\n",
       "      <td>Urban</td>\n",
       "      <td>Q</td>\n",
       "      <td>12</td>\n",
       "      <td>130</td>\n",
       "      <td>138</td>\n",
       "      <td>321</td>\n",
       "      <td>21</td>\n",
       "      <td>12</td>\n",
       "      <td>135</td>\n",
       "      <td>147</td>\n",
       "      <td>365</td>\n",
       "      <td>33</td>\n",
       "    </tr>\n",
       "  </tbody>\n",
       "</table>\n",
       "</div>"
      ],
      "text/plain": [
       "   Unnamed: 0 country_of_origin country_of_asylum population_type  \\\n",
       "0           0          Colombia             Aruba             ASY   \n",
       "1           1              Cuba             Aruba             ASY   \n",
       "2           2       Afghanistan       Afghanistan             IDP   \n",
       "3           3       Afghanistan       Afghanistan             IDP   \n",
       "4           4       Afghanistan       Afghanistan             IDP   \n",
       "\n",
       "  urban_or_rural_location accommodation_type  female_aged_0-4 years  \\\n",
       "0                   Urban                  I                      0   \n",
       "1                   Urban                  I                      0   \n",
       "2                   Rural                  I                      0   \n",
       "3                   Urban                  Q                     74   \n",
       "4                   Urban                  Q                     12   \n",
       "\n",
       "   female_aged_5-11 years  female_aged_12-17 years  female_aged_18-59 years  \\\n",
       "0                       0                        0                        0   \n",
       "1                       0                        0                        0   \n",
       "2                      14                       16                       37   \n",
       "3                     810                      853                     2004   \n",
       "4                     130                      138                      321   \n",
       "\n",
       "   female_aged_over_60_years  male_aged_0-4_years  male_aged_5-11_years  \\\n",
       "0                          0                    0                     0   \n",
       "1                          0                    0                     0   \n",
       "2                          0                    0                    15   \n",
       "3                        140                   75                   840   \n",
       "4                         21                   12                   135   \n",
       "\n",
       "   male_aged_12-17 years  male_aged_18-59_years  male_aged_over_60_years  \n",
       "0                      0                      5                        0  \n",
       "1                      0                      0                        0  \n",
       "2                     17                     38                        5  \n",
       "3                    921                   2278                      206  \n",
       "4                    147                    365                       33  "
      ]
     },
     "execution_count": 178,
     "metadata": {},
     "output_type": "execute_result"
    }
   ],
   "source": [
    "binarized_df = pd.read_csv('/Users/dayosangowawa/Desktop/GA/DSI20-lessons/projects/project-capstone/My Capstone/Forcibly displaced persons/cleaned_unhcrdf_final.csv')\n",
    "binarized_df.head()"
   ]
  },
  {
   "cell_type": "code",
   "execution_count": 179,
   "id": "fa540720",
   "metadata": {},
   "outputs": [],
   "source": [
    "binarized_df.drop(columns = ['Unnamed: 0'], inplace=True)"
   ]
  },
  {
   "cell_type": "code",
   "execution_count": 181,
   "id": "f06e28a5",
   "metadata": {},
   "outputs": [],
   "source": [
    "y = binarized_df.pop('accommodation_type')\n",
    "X = pd.get_dummies(binarized_df, drop_first=True)"
   ]
  },
  {
   "cell_type": "code",
   "execution_count": 183,
   "id": "7194c875",
   "metadata": {},
   "outputs": [
    {
     "name": "stdout",
     "output_type": "stream",
     "text": [
      "Baseline prediction:  0.7486373556474343\n"
     ]
    }
   ],
   "source": [
    "print('Baseline prediction: ', y.value_counts(normalize=True).max())"
   ]
  },
  {
   "cell_type": "code",
   "execution_count": 184,
   "id": "d38089af",
   "metadata": {},
   "outputs": [],
   "source": [
    "lb = preprocessing.LabelBinarizer()\n",
    "y = lb.fit_transform(y)"
   ]
  },
  {
   "cell_type": "code",
   "execution_count": 185,
   "id": "b887f341",
   "metadata": {},
   "outputs": [
    {
     "data": {
      "text/plain": [
       "array([[0],\n",
       "       [0],\n",
       "       [0],\n",
       "       ...,\n",
       "       [0],\n",
       "       [1],\n",
       "       [0]])"
      ]
     },
     "execution_count": 185,
     "metadata": {},
     "output_type": "execute_result"
    }
   ],
   "source": [
    "y\n",
    "#'0 'if it is 'I 'and '1' if it is 'other'. "
   ]
  },
  {
   "cell_type": "code",
   "execution_count": 186,
   "id": "3b4f0e93",
   "metadata": {},
   "outputs": [],
   "source": [
    "X_train, X_test, y_train, y_test = train_test_split(\n",
    "    X, y, stratify=y, test_size=0.2, random_state=1)"
   ]
  },
  {
   "cell_type": "code",
   "execution_count": 187,
   "id": "02cc3397",
   "metadata": {},
   "outputs": [],
   "source": [
    "#decision trees we do not have to scale the values."
   ]
  },
  {
   "cell_type": "code",
   "execution_count": 188,
   "id": "e37a5e0a",
   "metadata": {},
   "outputs": [
    {
     "data": {
      "text/plain": [
       "DecisionTreeClassifier(max_depth=7, random_state=1)"
      ]
     },
     "execution_count": 188,
     "metadata": {},
     "output_type": "execute_result"
    }
   ],
   "source": [
    "DTC = DecisionTreeClassifier(criterion='gini',\n",
    "                                    max_depth=7, \n",
    "                                    random_state=1)\n",
    "DTC.fit(X_train, y_train)"
   ]
  },
  {
   "cell_type": "code",
   "execution_count": 189,
   "id": "f52197bb",
   "metadata": {},
   "outputs": [
    {
     "name": "stdout",
     "output_type": "stream",
     "text": [
      "Accuracy score - train set: 0.8687522276752666\n",
      "Accuracy score - test set:  0.8707572517409662\n",
      "Mean CV Score - train set:  0.8672579324625656\n"
     ]
    }
   ],
   "source": [
    "print('Accuracy score - train set:',  DTC.score(X_train, y_train))\n",
    "print('Accuracy score - test set: ', DTC.score(X_test, y_test))\n",
    "print('Mean CV Score - train set: ', cross_val_score(DTC, X_train, y_train, cv=5).mean())"
   ]
  },
  {
   "cell_type": "code",
   "execution_count": 190,
   "id": "996d3670",
   "metadata": {},
   "outputs": [],
   "source": [
    "DTC_params = {\n",
    "    'criterion': ['gini', 'entropy'],\n",
    "    'max_depth': range(1, 10),\n",
    "    'max_features': [None],\n",
    "    'min_samples_split': [2, 3, 4, 5, 10, 15, 20, 25, 30, 40, 50],\n",
    "    'ccp_alpha': [0, 0.0001, 0.001, 0.005, 0.01]\n",
    "}\n",
    "\n",
    "DTC_gs = GridSearchCV(DTC, DTC_params, cv=5,\n",
    "                      verbose=2, n_jobs=-1)"
   ]
  },
  {
   "cell_type": "code",
   "execution_count": 191,
   "id": "59dfc94d",
   "metadata": {},
   "outputs": [
    {
     "name": "stdout",
     "output_type": "stream",
     "text": [
      "Fitting 5 folds for each of 990 candidates, totalling 4950 fits\n"
     ]
    },
    {
     "data": {
      "text/plain": [
       "GridSearchCV(cv=5,\n",
       "             estimator=DecisionTreeClassifier(max_depth=7, random_state=1),\n",
       "             n_jobs=-1,\n",
       "             param_grid={'ccp_alpha': [0, 0.0001, 0.001, 0.005, 0.01],\n",
       "                         'criterion': ['gini', 'entropy'],\n",
       "                         'max_depth': range(1, 10), 'max_features': [None],\n",
       "                         'min_samples_split': [2, 3, 4, 5, 10, 15, 20, 25, 30,\n",
       "                                               40, 50]},\n",
       "             verbose=2)"
      ]
     },
     "execution_count": 191,
     "metadata": {},
     "output_type": "execute_result"
    }
   ],
   "source": [
    "DTC_gs.fit(X_train, y_train)"
   ]
  },
  {
   "cell_type": "code",
   "execution_count": 192,
   "id": "ce469890",
   "metadata": {},
   "outputs": [
    {
     "name": "stdout",
     "output_type": "stream",
     "text": [
      "{'ccp_alpha': 0.0001, 'criterion': 'gini', 'max_depth': 9, 'max_features': None, 'min_samples_split': 2}\n",
      "0.8795821172974783\n"
     ]
    }
   ],
   "source": [
    "DTC_best = DTC_gs.best_estimator_\n",
    "print(DTC_gs.best_params_)\n",
    "print(DTC_gs.best_score_)"
   ]
  },
  {
   "cell_type": "code",
   "execution_count": 193,
   "id": "aa84f11b",
   "metadata": {},
   "outputs": [
    {
     "data": {
      "text/plain": [
       "DecisionTreeClassifier(ccp_alpha=0.0001, max_depth=9, random_state=1)"
      ]
     },
     "execution_count": 193,
     "metadata": {},
     "output_type": "execute_result"
    }
   ],
   "source": [
    "DTC_best = DecisionTreeClassifier(criterion='gini',\n",
    "                                    max_depth=9, \n",
    "                                    random_state=1,\n",
    "                                    ccp_alpha =0.0001,\n",
    "                                     max_features = None, \n",
    "                                     min_samples_split = 2)\n",
    "DTC_best.fit(X_train, y_train)"
   ]
  },
  {
   "cell_type": "code",
   "execution_count": 194,
   "id": "67fa86b3",
   "metadata": {},
   "outputs": [
    {
     "name": "stdout",
     "output_type": "stream",
     "text": [
      "Accuracy score - train set:  0.8803087215200285\n",
      "Accuracy score - test set:  0.883094807259966\n",
      "Mean CV score - train set:  0.8795821172974783\n"
     ]
    }
   ],
   "source": [
    "print('Accuracy score - train set: ', DTC_best.score(X_train, y_train))\n",
    "print('Accuracy score - test set: ', DTC_best.score(X_test, y_test))\n",
    "mean_cv_scores_dtcbest = (cross_val_score(DTC_best, X_train, y_train, cv=5)).mean()\n",
    "print('Mean CV score - train set: ', mean_cv_scores_dtcbest)"
   ]
  },
  {
   "cell_type": "code",
   "execution_count": 195,
   "id": "691c0efa",
   "metadata": {},
   "outputs": [
    {
     "data": {
      "text/html": [
       "<div>\n",
       "<style scoped>\n",
       "    .dataframe tbody tr th:only-of-type {\n",
       "        vertical-align: middle;\n",
       "    }\n",
       "\n",
       "    .dataframe tbody tr th {\n",
       "        vertical-align: top;\n",
       "    }\n",
       "\n",
       "    .dataframe thead th {\n",
       "        text-align: right;\n",
       "    }\n",
       "</style>\n",
       "<table border=\"1\" class=\"dataframe\">\n",
       "  <thead>\n",
       "    <tr style=\"text-align: right;\">\n",
       "      <th></th>\n",
       "      <th>Feature</th>\n",
       "      <th>Importance</th>\n",
       "    </tr>\n",
       "  </thead>\n",
       "  <tbody>\n",
       "    <tr>\n",
       "      <th>406</th>\n",
       "      <td>urban_or_rural_location_Urban</td>\n",
       "      <td>0.309761</td>\n",
       "    </tr>\n",
       "    <tr>\n",
       "      <th>375</th>\n",
       "      <td>country_of_asylum_Switzerland</td>\n",
       "      <td>0.116246</td>\n",
       "    </tr>\n",
       "    <tr>\n",
       "      <th>276</th>\n",
       "      <td>country_of_asylum_France</td>\n",
       "      <td>0.107093</td>\n",
       "    </tr>\n",
       "    <tr>\n",
       "      <th>247</th>\n",
       "      <td>country_of_asylum_Canada</td>\n",
       "      <td>0.089678</td>\n",
       "    </tr>\n",
       "    <tr>\n",
       "      <th>389</th>\n",
       "      <td>country_of_asylum_United Kingdom of Great Brit...</td>\n",
       "      <td>0.058737</td>\n",
       "    </tr>\n",
       "    <tr>\n",
       "      <th>...</th>\n",
       "      <td>...</td>\n",
       "      <td>...</td>\n",
       "    </tr>\n",
       "    <tr>\n",
       "      <th>136</th>\n",
       "      <td>country_of_origin_Namibia</td>\n",
       "      <td>0.000000</td>\n",
       "    </tr>\n",
       "    <tr>\n",
       "      <th>135</th>\n",
       "      <td>country_of_origin_Myanmar</td>\n",
       "      <td>0.000000</td>\n",
       "    </tr>\n",
       "    <tr>\n",
       "      <th>134</th>\n",
       "      <td>country_of_origin_Mozambique</td>\n",
       "      <td>0.000000</td>\n",
       "    </tr>\n",
       "    <tr>\n",
       "      <th>133</th>\n",
       "      <td>country_of_origin_Morocco</td>\n",
       "      <td>0.000000</td>\n",
       "    </tr>\n",
       "    <tr>\n",
       "      <th>203</th>\n",
       "      <td>country_of_origin_Tuvalu</td>\n",
       "      <td>0.000000</td>\n",
       "    </tr>\n",
       "  </tbody>\n",
       "</table>\n",
       "<p>407 rows × 2 columns</p>\n",
       "</div>"
      ],
      "text/plain": [
       "                                               Feature  Importance\n",
       "406                      urban_or_rural_location_Urban    0.309761\n",
       "375                      country_of_asylum_Switzerland    0.116246\n",
       "276                           country_of_asylum_France    0.107093\n",
       "247                           country_of_asylum_Canada    0.089678\n",
       "389  country_of_asylum_United Kingdom of Great Brit...    0.058737\n",
       "..                                                 ...         ...\n",
       "136                          country_of_origin_Namibia    0.000000\n",
       "135                          country_of_origin_Myanmar    0.000000\n",
       "134                       country_of_origin_Mozambique    0.000000\n",
       "133                          country_of_origin_Morocco    0.000000\n",
       "203                           country_of_origin_Tuvalu    0.000000\n",
       "\n",
       "[407 rows x 2 columns]"
      ]
     },
     "execution_count": 195,
     "metadata": {},
     "output_type": "execute_result"
    }
   ],
   "source": [
    "feat_import = pd.DataFrame({\n",
    "    'Feature': X_train.columns,\n",
    "    'Importance': DTC_best.feature_importances_\n",
    "})\n",
    "\n",
    "feat_import.sort_values('Importance', ascending=False, inplace=True)\n",
    "feat_import"
   ]
  },
  {
   "cell_type": "code",
   "execution_count": 196,
   "id": "46a44970",
   "metadata": {},
   "outputs": [
    {
     "data": {
      "text/html": [
       "<div>\n",
       "<style scoped>\n",
       "    .dataframe tbody tr th:only-of-type {\n",
       "        vertical-align: middle;\n",
       "    }\n",
       "\n",
       "    .dataframe tbody tr th {\n",
       "        vertical-align: top;\n",
       "    }\n",
       "\n",
       "    .dataframe thead th {\n",
       "        text-align: right;\n",
       "    }\n",
       "</style>\n",
       "<table border=\"1\" class=\"dataframe\">\n",
       "  <thead>\n",
       "    <tr style=\"text-align: right;\">\n",
       "      <th></th>\n",
       "      <th>Feature</th>\n",
       "      <th>Importance</th>\n",
       "    </tr>\n",
       "  </thead>\n",
       "  <tbody>\n",
       "    <tr>\n",
       "      <th>406</th>\n",
       "      <td>urban_or_rural_location_Urban</td>\n",
       "      <td>0.309761</td>\n",
       "    </tr>\n",
       "    <tr>\n",
       "      <th>375</th>\n",
       "      <td>country_of_asylum_Switzerland</td>\n",
       "      <td>0.116246</td>\n",
       "    </tr>\n",
       "    <tr>\n",
       "      <th>276</th>\n",
       "      <td>country_of_asylum_France</td>\n",
       "      <td>0.107093</td>\n",
       "    </tr>\n",
       "    <tr>\n",
       "      <th>247</th>\n",
       "      <td>country_of_asylum_Canada</td>\n",
       "      <td>0.089678</td>\n",
       "    </tr>\n",
       "    <tr>\n",
       "      <th>389</th>\n",
       "      <td>country_of_asylum_United Kingdom of Great Brit...</td>\n",
       "      <td>0.058737</td>\n",
       "    </tr>\n",
       "    <tr>\n",
       "      <th>339</th>\n",
       "      <td>country_of_asylum_Norway</td>\n",
       "      <td>0.052002</td>\n",
       "    </tr>\n",
       "    <tr>\n",
       "      <th>242</th>\n",
       "      <td>country_of_asylum_Bulgaria</td>\n",
       "      <td>0.041753</td>\n",
       "    </tr>\n",
       "    <tr>\n",
       "      <th>228</th>\n",
       "      <td>country_of_asylum_Austria</td>\n",
       "      <td>0.041638</td>\n",
       "    </tr>\n",
       "    <tr>\n",
       "      <th>282</th>\n",
       "      <td>country_of_asylum_Greece</td>\n",
       "      <td>0.035371</td>\n",
       "    </tr>\n",
       "    <tr>\n",
       "      <th>256</th>\n",
       "      <td>country_of_asylum_Congo</td>\n",
       "      <td>0.024771</td>\n",
       "    </tr>\n",
       "    <tr>\n",
       "      <th>264</th>\n",
       "      <td>country_of_asylum_Democratic Republic of the C...</td>\n",
       "      <td>0.023855</td>\n",
       "    </tr>\n",
       "    <tr>\n",
       "      <th>386</th>\n",
       "      <td>country_of_asylum_Uganda</td>\n",
       "      <td>0.021455</td>\n",
       "    </tr>\n",
       "    <tr>\n",
       "      <th>403</th>\n",
       "      <td>population_type_RET</td>\n",
       "      <td>0.017239</td>\n",
       "    </tr>\n",
       "    <tr>\n",
       "      <th>286</th>\n",
       "      <td>country_of_asylum_Guinea-Bissau</td>\n",
       "      <td>0.013632</td>\n",
       "    </tr>\n",
       "    <tr>\n",
       "      <th>246</th>\n",
       "      <td>country_of_asylum_Cameroon</td>\n",
       "      <td>0.010208</td>\n",
       "    </tr>\n",
       "    <tr>\n",
       "      <th>268</th>\n",
       "      <td>country_of_asylum_Egypt</td>\n",
       "      <td>0.008101</td>\n",
       "    </tr>\n",
       "    <tr>\n",
       "      <th>400</th>\n",
       "      <td>population_type_OOC</td>\n",
       "      <td>0.007279</td>\n",
       "    </tr>\n",
       "    <tr>\n",
       "      <th>1</th>\n",
       "      <td>female_aged_5-11 years</td>\n",
       "      <td>0.006286</td>\n",
       "    </tr>\n",
       "    <tr>\n",
       "      <th>402</th>\n",
       "      <td>population_type_REF</td>\n",
       "      <td>0.004378</td>\n",
       "    </tr>\n",
       "    <tr>\n",
       "      <th>8</th>\n",
       "      <td>male_aged_18-59_years</td>\n",
       "      <td>0.004134</td>\n",
       "    </tr>\n",
       "    <tr>\n",
       "      <th>162</th>\n",
       "      <td>country_of_origin_Rwanda</td>\n",
       "      <td>0.001194</td>\n",
       "    </tr>\n",
       "    <tr>\n",
       "      <th>6</th>\n",
       "      <td>male_aged_5-11_years</td>\n",
       "      <td>0.001154</td>\n",
       "    </tr>\n",
       "    <tr>\n",
       "      <th>13</th>\n",
       "      <td>country_of_origin_Angola</td>\n",
       "      <td>0.000966</td>\n",
       "    </tr>\n",
       "    <tr>\n",
       "      <th>60</th>\n",
       "      <td>country_of_origin_Democratic Republic of the C...</td>\n",
       "      <td>0.000891</td>\n",
       "    </tr>\n",
       "    <tr>\n",
       "      <th>5</th>\n",
       "      <td>male_aged_0-4_years</td>\n",
       "      <td>0.000812</td>\n",
       "    </tr>\n",
       "    <tr>\n",
       "      <th>188</th>\n",
       "      <td>country_of_origin_Sudan</td>\n",
       "      <td>0.000721</td>\n",
       "    </tr>\n",
       "    <tr>\n",
       "      <th>7</th>\n",
       "      <td>male_aged_12-17 years</td>\n",
       "      <td>0.000645</td>\n",
       "    </tr>\n",
       "    <tr>\n",
       "      <th>270</th>\n",
       "      <td>country_of_asylum_Eritrea</td>\n",
       "      <td>0.000000</td>\n",
       "    </tr>\n",
       "    <tr>\n",
       "      <th>271</th>\n",
       "      <td>country_of_asylum_Estonia</td>\n",
       "      <td>0.000000</td>\n",
       "    </tr>\n",
       "    <tr>\n",
       "      <th>272</th>\n",
       "      <td>country_of_asylum_Ethiopia</td>\n",
       "      <td>0.000000</td>\n",
       "    </tr>\n",
       "    <tr>\n",
       "      <th>269</th>\n",
       "      <td>country_of_asylum_El Salvador</td>\n",
       "      <td>0.000000</td>\n",
       "    </tr>\n",
       "    <tr>\n",
       "      <th>299</th>\n",
       "      <td>country_of_asylum_Jamaica</td>\n",
       "      <td>0.000000</td>\n",
       "    </tr>\n",
       "    <tr>\n",
       "      <th>267</th>\n",
       "      <td>country_of_asylum_East Timor</td>\n",
       "      <td>0.000000</td>\n",
       "    </tr>\n",
       "    <tr>\n",
       "      <th>274</th>\n",
       "      <td>country_of_asylum_Fiji</td>\n",
       "      <td>0.000000</td>\n",
       "    </tr>\n",
       "    <tr>\n",
       "      <th>300</th>\n",
       "      <td>country_of_asylum_Japan</td>\n",
       "      <td>0.000000</td>\n",
       "    </tr>\n",
       "    <tr>\n",
       "      <th>266</th>\n",
       "      <td>country_of_asylum_Dominican Republic</td>\n",
       "      <td>0.000000</td>\n",
       "    </tr>\n",
       "    <tr>\n",
       "      <th>265</th>\n",
       "      <td>country_of_asylum_Djibouti</td>\n",
       "      <td>0.000000</td>\n",
       "    </tr>\n",
       "    <tr>\n",
       "      <th>263</th>\n",
       "      <td>country_of_asylum_Côte d'Ivoire</td>\n",
       "      <td>0.000000</td>\n",
       "    </tr>\n",
       "    <tr>\n",
       "      <th>262</th>\n",
       "      <td>country_of_asylum_Czech Republic</td>\n",
       "      <td>0.000000</td>\n",
       "    </tr>\n",
       "    <tr>\n",
       "      <th>261</th>\n",
       "      <td>country_of_asylum_Cyprus</td>\n",
       "      <td>0.000000</td>\n",
       "    </tr>\n",
       "  </tbody>\n",
       "</table>\n",
       "</div>"
      ],
      "text/plain": [
       "                                               Feature  Importance\n",
       "406                      urban_or_rural_location_Urban    0.309761\n",
       "375                      country_of_asylum_Switzerland    0.116246\n",
       "276                           country_of_asylum_France    0.107093\n",
       "247                           country_of_asylum_Canada    0.089678\n",
       "389  country_of_asylum_United Kingdom of Great Brit...    0.058737\n",
       "339                           country_of_asylum_Norway    0.052002\n",
       "242                         country_of_asylum_Bulgaria    0.041753\n",
       "228                          country_of_asylum_Austria    0.041638\n",
       "282                           country_of_asylum_Greece    0.035371\n",
       "256                            country_of_asylum_Congo    0.024771\n",
       "264  country_of_asylum_Democratic Republic of the C...    0.023855\n",
       "386                           country_of_asylum_Uganda    0.021455\n",
       "403                                population_type_RET    0.017239\n",
       "286                    country_of_asylum_Guinea-Bissau    0.013632\n",
       "246                         country_of_asylum_Cameroon    0.010208\n",
       "268                            country_of_asylum_Egypt    0.008101\n",
       "400                                population_type_OOC    0.007279\n",
       "1                               female_aged_5-11 years    0.006286\n",
       "402                                population_type_REF    0.004378\n",
       "8                                male_aged_18-59_years    0.004134\n",
       "162                           country_of_origin_Rwanda    0.001194\n",
       "6                                 male_aged_5-11_years    0.001154\n",
       "13                            country_of_origin_Angola    0.000966\n",
       "60   country_of_origin_Democratic Republic of the C...    0.000891\n",
       "5                                  male_aged_0-4_years    0.000812\n",
       "188                            country_of_origin_Sudan    0.000721\n",
       "7                                male_aged_12-17 years    0.000645\n",
       "270                          country_of_asylum_Eritrea    0.000000\n",
       "271                          country_of_asylum_Estonia    0.000000\n",
       "272                         country_of_asylum_Ethiopia    0.000000\n",
       "269                      country_of_asylum_El Salvador    0.000000\n",
       "299                          country_of_asylum_Jamaica    0.000000\n",
       "267                       country_of_asylum_East Timor    0.000000\n",
       "274                             country_of_asylum_Fiji    0.000000\n",
       "300                            country_of_asylum_Japan    0.000000\n",
       "266               country_of_asylum_Dominican Republic    0.000000\n",
       "265                         country_of_asylum_Djibouti    0.000000\n",
       "263                    country_of_asylum_Côte d'Ivoire    0.000000\n",
       "262                   country_of_asylum_Czech Republic    0.000000\n",
       "261                           country_of_asylum_Cyprus    0.000000"
      ]
     },
     "execution_count": 196,
     "metadata": {},
     "output_type": "execute_result"
    }
   ],
   "source": [
    "feat_import.head(40)"
   ]
  },
  {
   "cell_type": "code",
   "execution_count": 197,
   "id": "e5600a36",
   "metadata": {},
   "outputs": [],
   "source": [
    "feat_import.reset_index(inplace=True)"
   ]
  },
  {
   "cell_type": "code",
   "execution_count": 198,
   "id": "a11946a6",
   "metadata": {},
   "outputs": [],
   "source": [
    "feat_import.drop(columns=['index'] ,inplace=True)"
   ]
  },
  {
   "cell_type": "code",
   "execution_count": 199,
   "id": "bf604b68",
   "metadata": {},
   "outputs": [
    {
     "data": {
      "image/png": "[encoded data removed]",
      "text/plain": [
       "<Figure size 576x864 with 1 Axes>"
      ]
     },
     "metadata": {
      "needs_background": "light"
     },
     "output_type": "display_data"
    }
   ],
   "source": [
    "feat_import.nlargest(20, columns=['Importance']).plot(kind='barh', x='Feature', y='Importance', figsize=(8, 12), color='#FC5A50')\n",
    "plt.xlabel('Importance', fontsize=13)\n",
    "plt.ylabel('Feature', fontsize=13)\n",
    "plt.title('The Importance of Each Feature in Predicting Accommodation Type Allocation', fontsize=18, pad=20)\n",
    "plt.grid()\n",
    "plt.show();"
   ]
  },
  {
   "cell_type": "code",
   "execution_count": 200,
   "id": "e460287b",
   "metadata": {},
   "outputs": [
    {
     "data": {
      "image/png": "[encoded data removed]",
      "text/plain": [
       "<Figure size 432x288 with 2 Axes>"
      ]
     },
     "metadata": {
      "needs_background": "light"
     },
     "output_type": "display_data"
    }
   ],
   "source": [
    "plot_confusion_matrix(DTC_best, X_test, y_test, cmap='Blues', labels=[1, 0], values_format='.0f')\n",
    "plt.show()"
   ]
  },
  {
   "cell_type": "code",
   "execution_count": 201,
   "id": "68a9f26d",
   "metadata": {},
   "outputs": [],
   "source": [
    "y_test_pred = DTC_best.predict(X_test)"
   ]
  },
  {
   "cell_type": "code",
   "execution_count": 202,
   "id": "79ed3431",
   "metadata": {},
   "outputs": [
    {
     "name": "stdout",
     "output_type": "stream",
     "text": [
      "              precision    recall  f1-score   support\n",
      "\n",
      "           0       0.89      0.96      0.92     13653\n",
      "           1       0.85      0.65      0.74      4584\n",
      "\n",
      "    accuracy                           0.88     18237\n",
      "   macro avg       0.87      0.81      0.83     18237\n",
      "weighted avg       0.88      0.88      0.88     18237\n",
      "\n"
     ]
    }
   ],
   "source": [
    "print(classification_report(y_test, y_test_pred))"
   ]
  },
  {
   "cell_type": "code",
   "execution_count": 203,
   "id": "defd732a",
   "metadata": {},
   "outputs": [],
   "source": [
    "#classification report shows that f1s-score, recall score and precision scores are slightly better than using knn."
   ]
  },
  {
   "cell_type": "code",
   "execution_count": 204,
   "id": "4df787c7",
   "metadata": {},
   "outputs": [],
   "source": [
    "probabilities_train = DTC_best.predict_proba(X_train)"
   ]
  },
  {
   "cell_type": "code",
   "execution_count": 205,
   "id": "6bf282c9",
   "metadata": {},
   "outputs": [],
   "source": [
    "from matplotlib.colors import ListedColormap\n",
    "cmap = ListedColormap(sns.color_palette(\"husl\", len(DTC_best.classes_)))"
   ]
  },
  {
   "cell_type": "code",
   "execution_count": 206,
   "id": "effd1776",
   "metadata": {},
   "outputs": [
    {
     "data": {
      "image/png": "[encoded data removed]",
      "text/plain": [
       "<Figure size 432x288 with 1 Axes>"
      ]
     },
     "metadata": {
      "needs_background": "light"
     },
     "output_type": "display_data"
    }
   ],
   "source": [
    "skplt.metrics.plot_precision_recall(y_train, probabilities_train, cmap=cmap)\n",
    "plt.show()"
   ]
  },
  {
   "cell_type": "code",
   "execution_count": 207,
   "id": "daf4dac2",
   "metadata": {},
   "outputs": [
    {
     "name": "stdout",
     "output_type": "stream",
     "text": [
      "Average precision score:  0.6990023581532937\n"
     ]
    }
   ],
   "source": [
    "print('Average precision score: ', average_precision_score(y_train, probabilities_train[:, 1]))\n",
    "\n",
    "#quite a poor score. A better score would be closer to 1. "
   ]
  },
  {
   "cell_type": "code",
   "execution_count": 208,
   "id": "a2143307",
   "metadata": {},
   "outputs": [
    {
     "data": {
      "image/png": "[encoded data removed]",
      "text/plain": [
       "<Figure size 432x288 with 1 Axes>"
      ]
     },
     "metadata": {
      "needs_background": "light"
     },
     "output_type": "display_data"
    }
   ],
   "source": [
    "skplt.metrics.plot_roc(y_train, probabilities_train, cmap=cmap)\n",
    "plt.show()"
   ]
  },
  {
   "cell_type": "code",
   "execution_count": 209,
   "id": "9bc958d6",
   "metadata": {},
   "outputs": [
    {
     "name": "stdout",
     "output_type": "stream",
     "text": [
      "Area under the curve :  0.8146968974112164\n"
     ]
    }
   ],
   "source": [
    "print('Area under the curve : ', roc_auc_score(y_train, probabilities_train[:, 1]))"
   ]
  }
 ],
 "metadata": {
  "kernelspec": {
   "display_name": "Python 3",
   "language": "python",
   "name": "python3"
  },
  "language_info": {
   "codemirror_mode": {
    "name": "ipython",
    "version": 3
   },
   "file_extension": ".py",
   "mimetype": "text/x-python",
   "name": "python",
   "nbconvert_exporter": "python",
   "pygments_lexer": "ipython3",
   "version": "3.8.8"
  }
 },
 "nbformat": 4,
 "nbformat_minor": 5
}
